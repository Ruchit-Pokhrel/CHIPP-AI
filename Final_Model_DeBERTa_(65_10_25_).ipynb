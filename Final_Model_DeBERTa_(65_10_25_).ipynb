{
  "nbformat": 4,
  "nbformat_minor": 0,
  "metadata": {
    "colab": {
      "provenance": [],
      "machine_shape": "hm",
      "gpuType": "A100"
    },
    "kernelspec": {
      "name": "python3",
      "display_name": "Python 3"
    },
    "language_info": {
      "name": "python"
    },
    "widgets": {
      "application/vnd.jupyter.widget-state+json": {
        "0057f298ed884f028ee2bf3fdfbac69e": {
          "model_module": "@jupyter-widgets/controls",
          "model_name": "HBoxModel",
          "model_module_version": "1.5.0",
          "state": {
            "_dom_classes": [],
            "_model_module": "@jupyter-widgets/controls",
            "_model_module_version": "1.5.0",
            "_model_name": "HBoxModel",
            "_view_count": null,
            "_view_module": "@jupyter-widgets/controls",
            "_view_module_version": "1.5.0",
            "_view_name": "HBoxView",
            "box_style": "",
            "children": [
              "IPY_MODEL_3e93cded361c4625833e3f1aef0e81c3",
              "IPY_MODEL_6fc34b1fe61a4be9b7690a8496db474b",
              "IPY_MODEL_bc3765b4051c41b4afcfad781bf0d9e1"
            ],
            "layout": "IPY_MODEL_3166f478bb194fd89ffb9563bf96eb63"
          }
        },
        "3e93cded361c4625833e3f1aef0e81c3": {
          "model_module": "@jupyter-widgets/controls",
          "model_name": "HTMLModel",
          "model_module_version": "1.5.0",
          "state": {
            "_dom_classes": [],
            "_model_module": "@jupyter-widgets/controls",
            "_model_module_version": "1.5.0",
            "_model_name": "HTMLModel",
            "_view_count": null,
            "_view_module": "@jupyter-widgets/controls",
            "_view_module_version": "1.5.0",
            "_view_name": "HTMLView",
            "description": "",
            "description_tooltip": null,
            "layout": "IPY_MODEL_f17a6a12b133461d90ae5a7b5683f333",
            "placeholder": "​",
            "style": "IPY_MODEL_aaeee4f179134068b04a147a41410caf",
            "value": "tokenizer_config.json: 100%"
          }
        },
        "6fc34b1fe61a4be9b7690a8496db474b": {
          "model_module": "@jupyter-widgets/controls",
          "model_name": "FloatProgressModel",
          "model_module_version": "1.5.0",
          "state": {
            "_dom_classes": [],
            "_model_module": "@jupyter-widgets/controls",
            "_model_module_version": "1.5.0",
            "_model_name": "FloatProgressModel",
            "_view_count": null,
            "_view_module": "@jupyter-widgets/controls",
            "_view_module_version": "1.5.0",
            "_view_name": "ProgressView",
            "bar_style": "success",
            "description": "",
            "description_tooltip": null,
            "layout": "IPY_MODEL_985c2209cfed4a8e95dd61fd7fa58b8b",
            "max": 52,
            "min": 0,
            "orientation": "horizontal",
            "style": "IPY_MODEL_81ef73624718478894d6ca60720dd4dc",
            "value": 52
          }
        },
        "bc3765b4051c41b4afcfad781bf0d9e1": {
          "model_module": "@jupyter-widgets/controls",
          "model_name": "HTMLModel",
          "model_module_version": "1.5.0",
          "state": {
            "_dom_classes": [],
            "_model_module": "@jupyter-widgets/controls",
            "_model_module_version": "1.5.0",
            "_model_name": "HTMLModel",
            "_view_count": null,
            "_view_module": "@jupyter-widgets/controls",
            "_view_module_version": "1.5.0",
            "_view_name": "HTMLView",
            "description": "",
            "description_tooltip": null,
            "layout": "IPY_MODEL_d28c8f554dbb4efeba100adfa13eee2b",
            "placeholder": "​",
            "style": "IPY_MODEL_65f01c6380084ff1a7a4b301915fccba",
            "value": " 52.0/52.0 [00:00&lt;00:00, 4.39kB/s]"
          }
        },
        "3166f478bb194fd89ffb9563bf96eb63": {
          "model_module": "@jupyter-widgets/base",
          "model_name": "LayoutModel",
          "model_module_version": "1.2.0",
          "state": {
            "_model_module": "@jupyter-widgets/base",
            "_model_module_version": "1.2.0",
            "_model_name": "LayoutModel",
            "_view_count": null,
            "_view_module": "@jupyter-widgets/base",
            "_view_module_version": "1.2.0",
            "_view_name": "LayoutView",
            "align_content": null,
            "align_items": null,
            "align_self": null,
            "border": null,
            "bottom": null,
            "display": null,
            "flex": null,
            "flex_flow": null,
            "grid_area": null,
            "grid_auto_columns": null,
            "grid_auto_flow": null,
            "grid_auto_rows": null,
            "grid_column": null,
            "grid_gap": null,
            "grid_row": null,
            "grid_template_areas": null,
            "grid_template_columns": null,
            "grid_template_rows": null,
            "height": null,
            "justify_content": null,
            "justify_items": null,
            "left": null,
            "margin": null,
            "max_height": null,
            "max_width": null,
            "min_height": null,
            "min_width": null,
            "object_fit": null,
            "object_position": null,
            "order": null,
            "overflow": null,
            "overflow_x": null,
            "overflow_y": null,
            "padding": null,
            "right": null,
            "top": null,
            "visibility": null,
            "width": null
          }
        },
        "f17a6a12b133461d90ae5a7b5683f333": {
          "model_module": "@jupyter-widgets/base",
          "model_name": "LayoutModel",
          "model_module_version": "1.2.0",
          "state": {
            "_model_module": "@jupyter-widgets/base",
            "_model_module_version": "1.2.0",
            "_model_name": "LayoutModel",
            "_view_count": null,
            "_view_module": "@jupyter-widgets/base",
            "_view_module_version": "1.2.0",
            "_view_name": "LayoutView",
            "align_content": null,
            "align_items": null,
            "align_self": null,
            "border": null,
            "bottom": null,
            "display": null,
            "flex": null,
            "flex_flow": null,
            "grid_area": null,
            "grid_auto_columns": null,
            "grid_auto_flow": null,
            "grid_auto_rows": null,
            "grid_column": null,
            "grid_gap": null,
            "grid_row": null,
            "grid_template_areas": null,
            "grid_template_columns": null,
            "grid_template_rows": null,
            "height": null,
            "justify_content": null,
            "justify_items": null,
            "left": null,
            "margin": null,
            "max_height": null,
            "max_width": null,
            "min_height": null,
            "min_width": null,
            "object_fit": null,
            "object_position": null,
            "order": null,
            "overflow": null,
            "overflow_x": null,
            "overflow_y": null,
            "padding": null,
            "right": null,
            "top": null,
            "visibility": null,
            "width": null
          }
        },
        "aaeee4f179134068b04a147a41410caf": {
          "model_module": "@jupyter-widgets/controls",
          "model_name": "DescriptionStyleModel",
          "model_module_version": "1.5.0",
          "state": {
            "_model_module": "@jupyter-widgets/controls",
            "_model_module_version": "1.5.0",
            "_model_name": "DescriptionStyleModel",
            "_view_count": null,
            "_view_module": "@jupyter-widgets/base",
            "_view_module_version": "1.2.0",
            "_view_name": "StyleView",
            "description_width": ""
          }
        },
        "985c2209cfed4a8e95dd61fd7fa58b8b": {
          "model_module": "@jupyter-widgets/base",
          "model_name": "LayoutModel",
          "model_module_version": "1.2.0",
          "state": {
            "_model_module": "@jupyter-widgets/base",
            "_model_module_version": "1.2.0",
            "_model_name": "LayoutModel",
            "_view_count": null,
            "_view_module": "@jupyter-widgets/base",
            "_view_module_version": "1.2.0",
            "_view_name": "LayoutView",
            "align_content": null,
            "align_items": null,
            "align_self": null,
            "border": null,
            "bottom": null,
            "display": null,
            "flex": null,
            "flex_flow": null,
            "grid_area": null,
            "grid_auto_columns": null,
            "grid_auto_flow": null,
            "grid_auto_rows": null,
            "grid_column": null,
            "grid_gap": null,
            "grid_row": null,
            "grid_template_areas": null,
            "grid_template_columns": null,
            "grid_template_rows": null,
            "height": null,
            "justify_content": null,
            "justify_items": null,
            "left": null,
            "margin": null,
            "max_height": null,
            "max_width": null,
            "min_height": null,
            "min_width": null,
            "object_fit": null,
            "object_position": null,
            "order": null,
            "overflow": null,
            "overflow_x": null,
            "overflow_y": null,
            "padding": null,
            "right": null,
            "top": null,
            "visibility": null,
            "width": null
          }
        },
        "81ef73624718478894d6ca60720dd4dc": {
          "model_module": "@jupyter-widgets/controls",
          "model_name": "ProgressStyleModel",
          "model_module_version": "1.5.0",
          "state": {
            "_model_module": "@jupyter-widgets/controls",
            "_model_module_version": "1.5.0",
            "_model_name": "ProgressStyleModel",
            "_view_count": null,
            "_view_module": "@jupyter-widgets/base",
            "_view_module_version": "1.2.0",
            "_view_name": "StyleView",
            "bar_color": null,
            "description_width": ""
          }
        },
        "d28c8f554dbb4efeba100adfa13eee2b": {
          "model_module": "@jupyter-widgets/base",
          "model_name": "LayoutModel",
          "model_module_version": "1.2.0",
          "state": {
            "_model_module": "@jupyter-widgets/base",
            "_model_module_version": "1.2.0",
            "_model_name": "LayoutModel",
            "_view_count": null,
            "_view_module": "@jupyter-widgets/base",
            "_view_module_version": "1.2.0",
            "_view_name": "LayoutView",
            "align_content": null,
            "align_items": null,
            "align_self": null,
            "border": null,
            "bottom": null,
            "display": null,
            "flex": null,
            "flex_flow": null,
            "grid_area": null,
            "grid_auto_columns": null,
            "grid_auto_flow": null,
            "grid_auto_rows": null,
            "grid_column": null,
            "grid_gap": null,
            "grid_row": null,
            "grid_template_areas": null,
            "grid_template_columns": null,
            "grid_template_rows": null,
            "height": null,
            "justify_content": null,
            "justify_items": null,
            "left": null,
            "margin": null,
            "max_height": null,
            "max_width": null,
            "min_height": null,
            "min_width": null,
            "object_fit": null,
            "object_position": null,
            "order": null,
            "overflow": null,
            "overflow_x": null,
            "overflow_y": null,
            "padding": null,
            "right": null,
            "top": null,
            "visibility": null,
            "width": null
          }
        },
        "65f01c6380084ff1a7a4b301915fccba": {
          "model_module": "@jupyter-widgets/controls",
          "model_name": "DescriptionStyleModel",
          "model_module_version": "1.5.0",
          "state": {
            "_model_module": "@jupyter-widgets/controls",
            "_model_module_version": "1.5.0",
            "_model_name": "DescriptionStyleModel",
            "_view_count": null,
            "_view_module": "@jupyter-widgets/base",
            "_view_module_version": "1.2.0",
            "_view_name": "StyleView",
            "description_width": ""
          }
        },
        "85f8bfd8a5694269a8d50f8ef079c19d": {
          "model_module": "@jupyter-widgets/controls",
          "model_name": "HBoxModel",
          "model_module_version": "1.5.0",
          "state": {
            "_dom_classes": [],
            "_model_module": "@jupyter-widgets/controls",
            "_model_module_version": "1.5.0",
            "_model_name": "HBoxModel",
            "_view_count": null,
            "_view_module": "@jupyter-widgets/controls",
            "_view_module_version": "1.5.0",
            "_view_name": "HBoxView",
            "box_style": "",
            "children": [
              "IPY_MODEL_b47b76ef93cc4c9eb88e4154287fe61a",
              "IPY_MODEL_9456f1e6285b49cab4ecce2c10eaaed2",
              "IPY_MODEL_8df9a8c2bb5d42dfa085b8849c546db5"
            ],
            "layout": "IPY_MODEL_398a82a11e5d40b8bdcd884abf3e373b"
          }
        },
        "b47b76ef93cc4c9eb88e4154287fe61a": {
          "model_module": "@jupyter-widgets/controls",
          "model_name": "HTMLModel",
          "model_module_version": "1.5.0",
          "state": {
            "_dom_classes": [],
            "_model_module": "@jupyter-widgets/controls",
            "_model_module_version": "1.5.0",
            "_model_name": "HTMLModel",
            "_view_count": null,
            "_view_module": "@jupyter-widgets/controls",
            "_view_module_version": "1.5.0",
            "_view_name": "HTMLView",
            "description": "",
            "description_tooltip": null,
            "layout": "IPY_MODEL_6e91690239f24fa69266a5c963d0e277",
            "placeholder": "​",
            "style": "IPY_MODEL_299f9080619b4f1d952baec606351aca",
            "value": "config.json: 100%"
          }
        },
        "9456f1e6285b49cab4ecce2c10eaaed2": {
          "model_module": "@jupyter-widgets/controls",
          "model_name": "FloatProgressModel",
          "model_module_version": "1.5.0",
          "state": {
            "_dom_classes": [],
            "_model_module": "@jupyter-widgets/controls",
            "_model_module_version": "1.5.0",
            "_model_name": "FloatProgressModel",
            "_view_count": null,
            "_view_module": "@jupyter-widgets/controls",
            "_view_module_version": "1.5.0",
            "_view_name": "ProgressView",
            "bar_style": "success",
            "description": "",
            "description_tooltip": null,
            "layout": "IPY_MODEL_b706440fb0db44928d7b3afbea7d1421",
            "max": 579,
            "min": 0,
            "orientation": "horizontal",
            "style": "IPY_MODEL_6c01d49b74da4c5fa37b0f05934fac24",
            "value": 579
          }
        },
        "8df9a8c2bb5d42dfa085b8849c546db5": {
          "model_module": "@jupyter-widgets/controls",
          "model_name": "HTMLModel",
          "model_module_version": "1.5.0",
          "state": {
            "_dom_classes": [],
            "_model_module": "@jupyter-widgets/controls",
            "_model_module_version": "1.5.0",
            "_model_name": "HTMLModel",
            "_view_count": null,
            "_view_module": "@jupyter-widgets/controls",
            "_view_module_version": "1.5.0",
            "_view_name": "HTMLView",
            "description": "",
            "description_tooltip": null,
            "layout": "IPY_MODEL_e8f00e948f7246f7a80cebfb13d710bc",
            "placeholder": "​",
            "style": "IPY_MODEL_f3ac0faffc004ca0a9ce14d8cf3b2088",
            "value": " 579/579 [00:00&lt;00:00, 51.4kB/s]"
          }
        },
        "398a82a11e5d40b8bdcd884abf3e373b": {
          "model_module": "@jupyter-widgets/base",
          "model_name": "LayoutModel",
          "model_module_version": "1.2.0",
          "state": {
            "_model_module": "@jupyter-widgets/base",
            "_model_module_version": "1.2.0",
            "_model_name": "LayoutModel",
            "_view_count": null,
            "_view_module": "@jupyter-widgets/base",
            "_view_module_version": "1.2.0",
            "_view_name": "LayoutView",
            "align_content": null,
            "align_items": null,
            "align_self": null,
            "border": null,
            "bottom": null,
            "display": null,
            "flex": null,
            "flex_flow": null,
            "grid_area": null,
            "grid_auto_columns": null,
            "grid_auto_flow": null,
            "grid_auto_rows": null,
            "grid_column": null,
            "grid_gap": null,
            "grid_row": null,
            "grid_template_areas": null,
            "grid_template_columns": null,
            "grid_template_rows": null,
            "height": null,
            "justify_content": null,
            "justify_items": null,
            "left": null,
            "margin": null,
            "max_height": null,
            "max_width": null,
            "min_height": null,
            "min_width": null,
            "object_fit": null,
            "object_position": null,
            "order": null,
            "overflow": null,
            "overflow_x": null,
            "overflow_y": null,
            "padding": null,
            "right": null,
            "top": null,
            "visibility": null,
            "width": null
          }
        },
        "6e91690239f24fa69266a5c963d0e277": {
          "model_module": "@jupyter-widgets/base",
          "model_name": "LayoutModel",
          "model_module_version": "1.2.0",
          "state": {
            "_model_module": "@jupyter-widgets/base",
            "_model_module_version": "1.2.0",
            "_model_name": "LayoutModel",
            "_view_count": null,
            "_view_module": "@jupyter-widgets/base",
            "_view_module_version": "1.2.0",
            "_view_name": "LayoutView",
            "align_content": null,
            "align_items": null,
            "align_self": null,
            "border": null,
            "bottom": null,
            "display": null,
            "flex": null,
            "flex_flow": null,
            "grid_area": null,
            "grid_auto_columns": null,
            "grid_auto_flow": null,
            "grid_auto_rows": null,
            "grid_column": null,
            "grid_gap": null,
            "grid_row": null,
            "grid_template_areas": null,
            "grid_template_columns": null,
            "grid_template_rows": null,
            "height": null,
            "justify_content": null,
            "justify_items": null,
            "left": null,
            "margin": null,
            "max_height": null,
            "max_width": null,
            "min_height": null,
            "min_width": null,
            "object_fit": null,
            "object_position": null,
            "order": null,
            "overflow": null,
            "overflow_x": null,
            "overflow_y": null,
            "padding": null,
            "right": null,
            "top": null,
            "visibility": null,
            "width": null
          }
        },
        "299f9080619b4f1d952baec606351aca": {
          "model_module": "@jupyter-widgets/controls",
          "model_name": "DescriptionStyleModel",
          "model_module_version": "1.5.0",
          "state": {
            "_model_module": "@jupyter-widgets/controls",
            "_model_module_version": "1.5.0",
            "_model_name": "DescriptionStyleModel",
            "_view_count": null,
            "_view_module": "@jupyter-widgets/base",
            "_view_module_version": "1.2.0",
            "_view_name": "StyleView",
            "description_width": ""
          }
        },
        "b706440fb0db44928d7b3afbea7d1421": {
          "model_module": "@jupyter-widgets/base",
          "model_name": "LayoutModel",
          "model_module_version": "1.2.0",
          "state": {
            "_model_module": "@jupyter-widgets/base",
            "_model_module_version": "1.2.0",
            "_model_name": "LayoutModel",
            "_view_count": null,
            "_view_module": "@jupyter-widgets/base",
            "_view_module_version": "1.2.0",
            "_view_name": "LayoutView",
            "align_content": null,
            "align_items": null,
            "align_self": null,
            "border": null,
            "bottom": null,
            "display": null,
            "flex": null,
            "flex_flow": null,
            "grid_area": null,
            "grid_auto_columns": null,
            "grid_auto_flow": null,
            "grid_auto_rows": null,
            "grid_column": null,
            "grid_gap": null,
            "grid_row": null,
            "grid_template_areas": null,
            "grid_template_columns": null,
            "grid_template_rows": null,
            "height": null,
            "justify_content": null,
            "justify_items": null,
            "left": null,
            "margin": null,
            "max_height": null,
            "max_width": null,
            "min_height": null,
            "min_width": null,
            "object_fit": null,
            "object_position": null,
            "order": null,
            "overflow": null,
            "overflow_x": null,
            "overflow_y": null,
            "padding": null,
            "right": null,
            "top": null,
            "visibility": null,
            "width": null
          }
        },
        "6c01d49b74da4c5fa37b0f05934fac24": {
          "model_module": "@jupyter-widgets/controls",
          "model_name": "ProgressStyleModel",
          "model_module_version": "1.5.0",
          "state": {
            "_model_module": "@jupyter-widgets/controls",
            "_model_module_version": "1.5.0",
            "_model_name": "ProgressStyleModel",
            "_view_count": null,
            "_view_module": "@jupyter-widgets/base",
            "_view_module_version": "1.2.0",
            "_view_name": "StyleView",
            "bar_color": null,
            "description_width": ""
          }
        },
        "e8f00e948f7246f7a80cebfb13d710bc": {
          "model_module": "@jupyter-widgets/base",
          "model_name": "LayoutModel",
          "model_module_version": "1.2.0",
          "state": {
            "_model_module": "@jupyter-widgets/base",
            "_model_module_version": "1.2.0",
            "_model_name": "LayoutModel",
            "_view_count": null,
            "_view_module": "@jupyter-widgets/base",
            "_view_module_version": "1.2.0",
            "_view_name": "LayoutView",
            "align_content": null,
            "align_items": null,
            "align_self": null,
            "border": null,
            "bottom": null,
            "display": null,
            "flex": null,
            "flex_flow": null,
            "grid_area": null,
            "grid_auto_columns": null,
            "grid_auto_flow": null,
            "grid_auto_rows": null,
            "grid_column": null,
            "grid_gap": null,
            "grid_row": null,
            "grid_template_areas": null,
            "grid_template_columns": null,
            "grid_template_rows": null,
            "height": null,
            "justify_content": null,
            "justify_items": null,
            "left": null,
            "margin": null,
            "max_height": null,
            "max_width": null,
            "min_height": null,
            "min_width": null,
            "object_fit": null,
            "object_position": null,
            "order": null,
            "overflow": null,
            "overflow_x": null,
            "overflow_y": null,
            "padding": null,
            "right": null,
            "top": null,
            "visibility": null,
            "width": null
          }
        },
        "f3ac0faffc004ca0a9ce14d8cf3b2088": {
          "model_module": "@jupyter-widgets/controls",
          "model_name": "DescriptionStyleModel",
          "model_module_version": "1.5.0",
          "state": {
            "_model_module": "@jupyter-widgets/controls",
            "_model_module_version": "1.5.0",
            "_model_name": "DescriptionStyleModel",
            "_view_count": null,
            "_view_module": "@jupyter-widgets/base",
            "_view_module_version": "1.2.0",
            "_view_name": "StyleView",
            "description_width": ""
          }
        },
        "8905cf383660424a916cdbedf5e6563d": {
          "model_module": "@jupyter-widgets/controls",
          "model_name": "HBoxModel",
          "model_module_version": "1.5.0",
          "state": {
            "_dom_classes": [],
            "_model_module": "@jupyter-widgets/controls",
            "_model_module_version": "1.5.0",
            "_model_name": "HBoxModel",
            "_view_count": null,
            "_view_module": "@jupyter-widgets/controls",
            "_view_module_version": "1.5.0",
            "_view_name": "HBoxView",
            "box_style": "",
            "children": [
              "IPY_MODEL_9703c43735c944a9bf5410ba61981830",
              "IPY_MODEL_30b9937167b542e080649466510c843a",
              "IPY_MODEL_b3a95bea0b064e00ba3b6259ecf3a672"
            ],
            "layout": "IPY_MODEL_38aaac4d44c4480e9d9f10eefebfea13"
          }
        },
        "9703c43735c944a9bf5410ba61981830": {
          "model_module": "@jupyter-widgets/controls",
          "model_name": "HTMLModel",
          "model_module_version": "1.5.0",
          "state": {
            "_dom_classes": [],
            "_model_module": "@jupyter-widgets/controls",
            "_model_module_version": "1.5.0",
            "_model_name": "HTMLModel",
            "_view_count": null,
            "_view_module": "@jupyter-widgets/controls",
            "_view_module_version": "1.5.0",
            "_view_name": "HTMLView",
            "description": "",
            "description_tooltip": null,
            "layout": "IPY_MODEL_602ae456032d4f21bc799732edf8441e",
            "placeholder": "​",
            "style": "IPY_MODEL_4a0a7d069e5b4caeb8416299239f54db",
            "value": "spm.model: 100%"
          }
        },
        "30b9937167b542e080649466510c843a": {
          "model_module": "@jupyter-widgets/controls",
          "model_name": "FloatProgressModel",
          "model_module_version": "1.5.0",
          "state": {
            "_dom_classes": [],
            "_model_module": "@jupyter-widgets/controls",
            "_model_module_version": "1.5.0",
            "_model_name": "FloatProgressModel",
            "_view_count": null,
            "_view_module": "@jupyter-widgets/controls",
            "_view_module_version": "1.5.0",
            "_view_name": "ProgressView",
            "bar_style": "success",
            "description": "",
            "description_tooltip": null,
            "layout": "IPY_MODEL_1e4da703f2034d729f00fab98679b752",
            "max": 2464616,
            "min": 0,
            "orientation": "horizontal",
            "style": "IPY_MODEL_bc5f082d1f354d839dc0214d2d29b9ec",
            "value": 2464616
          }
        },
        "b3a95bea0b064e00ba3b6259ecf3a672": {
          "model_module": "@jupyter-widgets/controls",
          "model_name": "HTMLModel",
          "model_module_version": "1.5.0",
          "state": {
            "_dom_classes": [],
            "_model_module": "@jupyter-widgets/controls",
            "_model_module_version": "1.5.0",
            "_model_name": "HTMLModel",
            "_view_count": null,
            "_view_module": "@jupyter-widgets/controls",
            "_view_module_version": "1.5.0",
            "_view_name": "HTMLView",
            "description": "",
            "description_tooltip": null,
            "layout": "IPY_MODEL_c763091ff821486492ea224d4c131394",
            "placeholder": "​",
            "style": "IPY_MODEL_3f67820149ae4a2aafba967be78ab531",
            "value": " 2.46M/2.46M [00:00&lt;00:00, 27.8MB/s]"
          }
        },
        "38aaac4d44c4480e9d9f10eefebfea13": {
          "model_module": "@jupyter-widgets/base",
          "model_name": "LayoutModel",
          "model_module_version": "1.2.0",
          "state": {
            "_model_module": "@jupyter-widgets/base",
            "_model_module_version": "1.2.0",
            "_model_name": "LayoutModel",
            "_view_count": null,
            "_view_module": "@jupyter-widgets/base",
            "_view_module_version": "1.2.0",
            "_view_name": "LayoutView",
            "align_content": null,
            "align_items": null,
            "align_self": null,
            "border": null,
            "bottom": null,
            "display": null,
            "flex": null,
            "flex_flow": null,
            "grid_area": null,
            "grid_auto_columns": null,
            "grid_auto_flow": null,
            "grid_auto_rows": null,
            "grid_column": null,
            "grid_gap": null,
            "grid_row": null,
            "grid_template_areas": null,
            "grid_template_columns": null,
            "grid_template_rows": null,
            "height": null,
            "justify_content": null,
            "justify_items": null,
            "left": null,
            "margin": null,
            "max_height": null,
            "max_width": null,
            "min_height": null,
            "min_width": null,
            "object_fit": null,
            "object_position": null,
            "order": null,
            "overflow": null,
            "overflow_x": null,
            "overflow_y": null,
            "padding": null,
            "right": null,
            "top": null,
            "visibility": null,
            "width": null
          }
        },
        "602ae456032d4f21bc799732edf8441e": {
          "model_module": "@jupyter-widgets/base",
          "model_name": "LayoutModel",
          "model_module_version": "1.2.0",
          "state": {
            "_model_module": "@jupyter-widgets/base",
            "_model_module_version": "1.2.0",
            "_model_name": "LayoutModel",
            "_view_count": null,
            "_view_module": "@jupyter-widgets/base",
            "_view_module_version": "1.2.0",
            "_view_name": "LayoutView",
            "align_content": null,
            "align_items": null,
            "align_self": null,
            "border": null,
            "bottom": null,
            "display": null,
            "flex": null,
            "flex_flow": null,
            "grid_area": null,
            "grid_auto_columns": null,
            "grid_auto_flow": null,
            "grid_auto_rows": null,
            "grid_column": null,
            "grid_gap": null,
            "grid_row": null,
            "grid_template_areas": null,
            "grid_template_columns": null,
            "grid_template_rows": null,
            "height": null,
            "justify_content": null,
            "justify_items": null,
            "left": null,
            "margin": null,
            "max_height": null,
            "max_width": null,
            "min_height": null,
            "min_width": null,
            "object_fit": null,
            "object_position": null,
            "order": null,
            "overflow": null,
            "overflow_x": null,
            "overflow_y": null,
            "padding": null,
            "right": null,
            "top": null,
            "visibility": null,
            "width": null
          }
        },
        "4a0a7d069e5b4caeb8416299239f54db": {
          "model_module": "@jupyter-widgets/controls",
          "model_name": "DescriptionStyleModel",
          "model_module_version": "1.5.0",
          "state": {
            "_model_module": "@jupyter-widgets/controls",
            "_model_module_version": "1.5.0",
            "_model_name": "DescriptionStyleModel",
            "_view_count": null,
            "_view_module": "@jupyter-widgets/base",
            "_view_module_version": "1.2.0",
            "_view_name": "StyleView",
            "description_width": ""
          }
        },
        "1e4da703f2034d729f00fab98679b752": {
          "model_module": "@jupyter-widgets/base",
          "model_name": "LayoutModel",
          "model_module_version": "1.2.0",
          "state": {
            "_model_module": "@jupyter-widgets/base",
            "_model_module_version": "1.2.0",
            "_model_name": "LayoutModel",
            "_view_count": null,
            "_view_module": "@jupyter-widgets/base",
            "_view_module_version": "1.2.0",
            "_view_name": "LayoutView",
            "align_content": null,
            "align_items": null,
            "align_self": null,
            "border": null,
            "bottom": null,
            "display": null,
            "flex": null,
            "flex_flow": null,
            "grid_area": null,
            "grid_auto_columns": null,
            "grid_auto_flow": null,
            "grid_auto_rows": null,
            "grid_column": null,
            "grid_gap": null,
            "grid_row": null,
            "grid_template_areas": null,
            "grid_template_columns": null,
            "grid_template_rows": null,
            "height": null,
            "justify_content": null,
            "justify_items": null,
            "left": null,
            "margin": null,
            "max_height": null,
            "max_width": null,
            "min_height": null,
            "min_width": null,
            "object_fit": null,
            "object_position": null,
            "order": null,
            "overflow": null,
            "overflow_x": null,
            "overflow_y": null,
            "padding": null,
            "right": null,
            "top": null,
            "visibility": null,
            "width": null
          }
        },
        "bc5f082d1f354d839dc0214d2d29b9ec": {
          "model_module": "@jupyter-widgets/controls",
          "model_name": "ProgressStyleModel",
          "model_module_version": "1.5.0",
          "state": {
            "_model_module": "@jupyter-widgets/controls",
            "_model_module_version": "1.5.0",
            "_model_name": "ProgressStyleModel",
            "_view_count": null,
            "_view_module": "@jupyter-widgets/base",
            "_view_module_version": "1.2.0",
            "_view_name": "StyleView",
            "bar_color": null,
            "description_width": ""
          }
        },
        "c763091ff821486492ea224d4c131394": {
          "model_module": "@jupyter-widgets/base",
          "model_name": "LayoutModel",
          "model_module_version": "1.2.0",
          "state": {
            "_model_module": "@jupyter-widgets/base",
            "_model_module_version": "1.2.0",
            "_model_name": "LayoutModel",
            "_view_count": null,
            "_view_module": "@jupyter-widgets/base",
            "_view_module_version": "1.2.0",
            "_view_name": "LayoutView",
            "align_content": null,
            "align_items": null,
            "align_self": null,
            "border": null,
            "bottom": null,
            "display": null,
            "flex": null,
            "flex_flow": null,
            "grid_area": null,
            "grid_auto_columns": null,
            "grid_auto_flow": null,
            "grid_auto_rows": null,
            "grid_column": null,
            "grid_gap": null,
            "grid_row": null,
            "grid_template_areas": null,
            "grid_template_columns": null,
            "grid_template_rows": null,
            "height": null,
            "justify_content": null,
            "justify_items": null,
            "left": null,
            "margin": null,
            "max_height": null,
            "max_width": null,
            "min_height": null,
            "min_width": null,
            "object_fit": null,
            "object_position": null,
            "order": null,
            "overflow": null,
            "overflow_x": null,
            "overflow_y": null,
            "padding": null,
            "right": null,
            "top": null,
            "visibility": null,
            "width": null
          }
        },
        "3f67820149ae4a2aafba967be78ab531": {
          "model_module": "@jupyter-widgets/controls",
          "model_name": "DescriptionStyleModel",
          "model_module_version": "1.5.0",
          "state": {
            "_model_module": "@jupyter-widgets/controls",
            "_model_module_version": "1.5.0",
            "_model_name": "DescriptionStyleModel",
            "_view_count": null,
            "_view_module": "@jupyter-widgets/base",
            "_view_module_version": "1.2.0",
            "_view_name": "StyleView",
            "description_width": ""
          }
        },
        "31ec71b2e1234e519b6a25c43f1d1fa4": {
          "model_module": "@jupyter-widgets/controls",
          "model_name": "HBoxModel",
          "model_module_version": "1.5.0",
          "state": {
            "_dom_classes": [],
            "_model_module": "@jupyter-widgets/controls",
            "_model_module_version": "1.5.0",
            "_model_name": "HBoxModel",
            "_view_count": null,
            "_view_module": "@jupyter-widgets/controls",
            "_view_module_version": "1.5.0",
            "_view_name": "HBoxView",
            "box_style": "",
            "children": [
              "IPY_MODEL_a47ec37ba9434ccfae41742c1f096b2e",
              "IPY_MODEL_83bb0f85cfdf4fc49421c4f63d80d599",
              "IPY_MODEL_02705c4d5ac24dec864b9a7ff7664b6f"
            ],
            "layout": "IPY_MODEL_633892ed1fad467caab1ff09d878b071"
          }
        },
        "a47ec37ba9434ccfae41742c1f096b2e": {
          "model_module": "@jupyter-widgets/controls",
          "model_name": "HTMLModel",
          "model_module_version": "1.5.0",
          "state": {
            "_dom_classes": [],
            "_model_module": "@jupyter-widgets/controls",
            "_model_module_version": "1.5.0",
            "_model_name": "HTMLModel",
            "_view_count": null,
            "_view_module": "@jupyter-widgets/controls",
            "_view_module_version": "1.5.0",
            "_view_name": "HTMLView",
            "description": "",
            "description_tooltip": null,
            "layout": "IPY_MODEL_86b8c154c00e4da1a0be994864facfac",
            "placeholder": "​",
            "style": "IPY_MODEL_d7c4fb2b93644a6a85753c6f4f2b9314",
            "value": "Map: 100%"
          }
        },
        "83bb0f85cfdf4fc49421c4f63d80d599": {
          "model_module": "@jupyter-widgets/controls",
          "model_name": "FloatProgressModel",
          "model_module_version": "1.5.0",
          "state": {
            "_dom_classes": [],
            "_model_module": "@jupyter-widgets/controls",
            "_model_module_version": "1.5.0",
            "_model_name": "FloatProgressModel",
            "_view_count": null,
            "_view_module": "@jupyter-widgets/controls",
            "_view_module_version": "1.5.0",
            "_view_name": "ProgressView",
            "bar_style": "success",
            "description": "",
            "description_tooltip": null,
            "layout": "IPY_MODEL_fa127ac6a2d0412f81f522b4ebb66864",
            "max": 2100000,
            "min": 0,
            "orientation": "horizontal",
            "style": "IPY_MODEL_bcd52945ea254c1c90c20a9cbc9f3a08",
            "value": 2100000
          }
        },
        "02705c4d5ac24dec864b9a7ff7664b6f": {
          "model_module": "@jupyter-widgets/controls",
          "model_name": "HTMLModel",
          "model_module_version": "1.5.0",
          "state": {
            "_dom_classes": [],
            "_model_module": "@jupyter-widgets/controls",
            "_model_module_version": "1.5.0",
            "_model_name": "HTMLModel",
            "_view_count": null,
            "_view_module": "@jupyter-widgets/controls",
            "_view_module_version": "1.5.0",
            "_view_name": "HTMLView",
            "description": "",
            "description_tooltip": null,
            "layout": "IPY_MODEL_2e8be176b2bf43ccbca1b905cefdc269",
            "placeholder": "​",
            "style": "IPY_MODEL_e61198d75ec54d40833067bd40128917",
            "value": " 2100000/2100000 [05:56&lt;00:00, 6615.26 examples/s]"
          }
        },
        "633892ed1fad467caab1ff09d878b071": {
          "model_module": "@jupyter-widgets/base",
          "model_name": "LayoutModel",
          "model_module_version": "1.2.0",
          "state": {
            "_model_module": "@jupyter-widgets/base",
            "_model_module_version": "1.2.0",
            "_model_name": "LayoutModel",
            "_view_count": null,
            "_view_module": "@jupyter-widgets/base",
            "_view_module_version": "1.2.0",
            "_view_name": "LayoutView",
            "align_content": null,
            "align_items": null,
            "align_self": null,
            "border": null,
            "bottom": null,
            "display": null,
            "flex": null,
            "flex_flow": null,
            "grid_area": null,
            "grid_auto_columns": null,
            "grid_auto_flow": null,
            "grid_auto_rows": null,
            "grid_column": null,
            "grid_gap": null,
            "grid_row": null,
            "grid_template_areas": null,
            "grid_template_columns": null,
            "grid_template_rows": null,
            "height": null,
            "justify_content": null,
            "justify_items": null,
            "left": null,
            "margin": null,
            "max_height": null,
            "max_width": null,
            "min_height": null,
            "min_width": null,
            "object_fit": null,
            "object_position": null,
            "order": null,
            "overflow": null,
            "overflow_x": null,
            "overflow_y": null,
            "padding": null,
            "right": null,
            "top": null,
            "visibility": null,
            "width": null
          }
        },
        "86b8c154c00e4da1a0be994864facfac": {
          "model_module": "@jupyter-widgets/base",
          "model_name": "LayoutModel",
          "model_module_version": "1.2.0",
          "state": {
            "_model_module": "@jupyter-widgets/base",
            "_model_module_version": "1.2.0",
            "_model_name": "LayoutModel",
            "_view_count": null,
            "_view_module": "@jupyter-widgets/base",
            "_view_module_version": "1.2.0",
            "_view_name": "LayoutView",
            "align_content": null,
            "align_items": null,
            "align_self": null,
            "border": null,
            "bottom": null,
            "display": null,
            "flex": null,
            "flex_flow": null,
            "grid_area": null,
            "grid_auto_columns": null,
            "grid_auto_flow": null,
            "grid_auto_rows": null,
            "grid_column": null,
            "grid_gap": null,
            "grid_row": null,
            "grid_template_areas": null,
            "grid_template_columns": null,
            "grid_template_rows": null,
            "height": null,
            "justify_content": null,
            "justify_items": null,
            "left": null,
            "margin": null,
            "max_height": null,
            "max_width": null,
            "min_height": null,
            "min_width": null,
            "object_fit": null,
            "object_position": null,
            "order": null,
            "overflow": null,
            "overflow_x": null,
            "overflow_y": null,
            "padding": null,
            "right": null,
            "top": null,
            "visibility": null,
            "width": null
          }
        },
        "d7c4fb2b93644a6a85753c6f4f2b9314": {
          "model_module": "@jupyter-widgets/controls",
          "model_name": "DescriptionStyleModel",
          "model_module_version": "1.5.0",
          "state": {
            "_model_module": "@jupyter-widgets/controls",
            "_model_module_version": "1.5.0",
            "_model_name": "DescriptionStyleModel",
            "_view_count": null,
            "_view_module": "@jupyter-widgets/base",
            "_view_module_version": "1.2.0",
            "_view_name": "StyleView",
            "description_width": ""
          }
        },
        "fa127ac6a2d0412f81f522b4ebb66864": {
          "model_module": "@jupyter-widgets/base",
          "model_name": "LayoutModel",
          "model_module_version": "1.2.0",
          "state": {
            "_model_module": "@jupyter-widgets/base",
            "_model_module_version": "1.2.0",
            "_model_name": "LayoutModel",
            "_view_count": null,
            "_view_module": "@jupyter-widgets/base",
            "_view_module_version": "1.2.0",
            "_view_name": "LayoutView",
            "align_content": null,
            "align_items": null,
            "align_self": null,
            "border": null,
            "bottom": null,
            "display": null,
            "flex": null,
            "flex_flow": null,
            "grid_area": null,
            "grid_auto_columns": null,
            "grid_auto_flow": null,
            "grid_auto_rows": null,
            "grid_column": null,
            "grid_gap": null,
            "grid_row": null,
            "grid_template_areas": null,
            "grid_template_columns": null,
            "grid_template_rows": null,
            "height": null,
            "justify_content": null,
            "justify_items": null,
            "left": null,
            "margin": null,
            "max_height": null,
            "max_width": null,
            "min_height": null,
            "min_width": null,
            "object_fit": null,
            "object_position": null,
            "order": null,
            "overflow": null,
            "overflow_x": null,
            "overflow_y": null,
            "padding": null,
            "right": null,
            "top": null,
            "visibility": null,
            "width": null
          }
        },
        "bcd52945ea254c1c90c20a9cbc9f3a08": {
          "model_module": "@jupyter-widgets/controls",
          "model_name": "ProgressStyleModel",
          "model_module_version": "1.5.0",
          "state": {
            "_model_module": "@jupyter-widgets/controls",
            "_model_module_version": "1.5.0",
            "_model_name": "ProgressStyleModel",
            "_view_count": null,
            "_view_module": "@jupyter-widgets/base",
            "_view_module_version": "1.2.0",
            "_view_name": "StyleView",
            "bar_color": null,
            "description_width": ""
          }
        },
        "2e8be176b2bf43ccbca1b905cefdc269": {
          "model_module": "@jupyter-widgets/base",
          "model_name": "LayoutModel",
          "model_module_version": "1.2.0",
          "state": {
            "_model_module": "@jupyter-widgets/base",
            "_model_module_version": "1.2.0",
            "_model_name": "LayoutModel",
            "_view_count": null,
            "_view_module": "@jupyter-widgets/base",
            "_view_module_version": "1.2.0",
            "_view_name": "LayoutView",
            "align_content": null,
            "align_items": null,
            "align_self": null,
            "border": null,
            "bottom": null,
            "display": null,
            "flex": null,
            "flex_flow": null,
            "grid_area": null,
            "grid_auto_columns": null,
            "grid_auto_flow": null,
            "grid_auto_rows": null,
            "grid_column": null,
            "grid_gap": null,
            "grid_row": null,
            "grid_template_areas": null,
            "grid_template_columns": null,
            "grid_template_rows": null,
            "height": null,
            "justify_content": null,
            "justify_items": null,
            "left": null,
            "margin": null,
            "max_height": null,
            "max_width": null,
            "min_height": null,
            "min_width": null,
            "object_fit": null,
            "object_position": null,
            "order": null,
            "overflow": null,
            "overflow_x": null,
            "overflow_y": null,
            "padding": null,
            "right": null,
            "top": null,
            "visibility": null,
            "width": null
          }
        },
        "e61198d75ec54d40833067bd40128917": {
          "model_module": "@jupyter-widgets/controls",
          "model_name": "DescriptionStyleModel",
          "model_module_version": "1.5.0",
          "state": {
            "_model_module": "@jupyter-widgets/controls",
            "_model_module_version": "1.5.0",
            "_model_name": "DescriptionStyleModel",
            "_view_count": null,
            "_view_module": "@jupyter-widgets/base",
            "_view_module_version": "1.2.0",
            "_view_name": "StyleView",
            "description_width": ""
          }
        },
        "5094ad5986d44328b54a00872e8b1d1d": {
          "model_module": "@jupyter-widgets/controls",
          "model_name": "HBoxModel",
          "model_module_version": "1.5.0",
          "state": {
            "_dom_classes": [],
            "_model_module": "@jupyter-widgets/controls",
            "_model_module_version": "1.5.0",
            "_model_name": "HBoxModel",
            "_view_count": null,
            "_view_module": "@jupyter-widgets/controls",
            "_view_module_version": "1.5.0",
            "_view_name": "HBoxView",
            "box_style": "",
            "children": [
              "IPY_MODEL_8f8e9672970245028acbf3b141c27f1d",
              "IPY_MODEL_8344dc351ed940a090f7ba4b9632baaa",
              "IPY_MODEL_c0bb4c86779242ce902ceaf63eaa22bf"
            ],
            "layout": "IPY_MODEL_674f6b57937142f5afbf8d1fa4500dba"
          }
        },
        "8f8e9672970245028acbf3b141c27f1d": {
          "model_module": "@jupyter-widgets/controls",
          "model_name": "HTMLModel",
          "model_module_version": "1.5.0",
          "state": {
            "_dom_classes": [],
            "_model_module": "@jupyter-widgets/controls",
            "_model_module_version": "1.5.0",
            "_model_name": "HTMLModel",
            "_view_count": null,
            "_view_module": "@jupyter-widgets/controls",
            "_view_module_version": "1.5.0",
            "_view_name": "HTMLView",
            "description": "",
            "description_tooltip": null,
            "layout": "IPY_MODEL_38ab4fddc2db42a38a5565adea9e6026",
            "placeholder": "​",
            "style": "IPY_MODEL_9e1e015b9562494caedb70dc4207c9a6",
            "value": "Map: 100%"
          }
        },
        "8344dc351ed940a090f7ba4b9632baaa": {
          "model_module": "@jupyter-widgets/controls",
          "model_name": "FloatProgressModel",
          "model_module_version": "1.5.0",
          "state": {
            "_dom_classes": [],
            "_model_module": "@jupyter-widgets/controls",
            "_model_module_version": "1.5.0",
            "_model_name": "FloatProgressModel",
            "_view_count": null,
            "_view_module": "@jupyter-widgets/controls",
            "_view_module_version": "1.5.0",
            "_view_name": "ProgressView",
            "bar_style": "success",
            "description": "",
            "description_tooltip": null,
            "layout": "IPY_MODEL_83cceea75bc041ceb6d290826eeef1ba",
            "max": 450000,
            "min": 0,
            "orientation": "horizontal",
            "style": "IPY_MODEL_e5bd764825d149ba946a9dfd54880591",
            "value": 450000
          }
        },
        "c0bb4c86779242ce902ceaf63eaa22bf": {
          "model_module": "@jupyter-widgets/controls",
          "model_name": "HTMLModel",
          "model_module_version": "1.5.0",
          "state": {
            "_dom_classes": [],
            "_model_module": "@jupyter-widgets/controls",
            "_model_module_version": "1.5.0",
            "_model_name": "HTMLModel",
            "_view_count": null,
            "_view_module": "@jupyter-widgets/controls",
            "_view_module_version": "1.5.0",
            "_view_name": "HTMLView",
            "description": "",
            "description_tooltip": null,
            "layout": "IPY_MODEL_c05cdc6320604e808568c76a2d2fb46c",
            "placeholder": "​",
            "style": "IPY_MODEL_d21dde5e4c994d6fa465ed90e7359f51",
            "value": " 450000/450000 [01:15&lt;00:00, 6462.46 examples/s]"
          }
        },
        "674f6b57937142f5afbf8d1fa4500dba": {
          "model_module": "@jupyter-widgets/base",
          "model_name": "LayoutModel",
          "model_module_version": "1.2.0",
          "state": {
            "_model_module": "@jupyter-widgets/base",
            "_model_module_version": "1.2.0",
            "_model_name": "LayoutModel",
            "_view_count": null,
            "_view_module": "@jupyter-widgets/base",
            "_view_module_version": "1.2.0",
            "_view_name": "LayoutView",
            "align_content": null,
            "align_items": null,
            "align_self": null,
            "border": null,
            "bottom": null,
            "display": null,
            "flex": null,
            "flex_flow": null,
            "grid_area": null,
            "grid_auto_columns": null,
            "grid_auto_flow": null,
            "grid_auto_rows": null,
            "grid_column": null,
            "grid_gap": null,
            "grid_row": null,
            "grid_template_areas": null,
            "grid_template_columns": null,
            "grid_template_rows": null,
            "height": null,
            "justify_content": null,
            "justify_items": null,
            "left": null,
            "margin": null,
            "max_height": null,
            "max_width": null,
            "min_height": null,
            "min_width": null,
            "object_fit": null,
            "object_position": null,
            "order": null,
            "overflow": null,
            "overflow_x": null,
            "overflow_y": null,
            "padding": null,
            "right": null,
            "top": null,
            "visibility": null,
            "width": null
          }
        },
        "38ab4fddc2db42a38a5565adea9e6026": {
          "model_module": "@jupyter-widgets/base",
          "model_name": "LayoutModel",
          "model_module_version": "1.2.0",
          "state": {
            "_model_module": "@jupyter-widgets/base",
            "_model_module_version": "1.2.0",
            "_model_name": "LayoutModel",
            "_view_count": null,
            "_view_module": "@jupyter-widgets/base",
            "_view_module_version": "1.2.0",
            "_view_name": "LayoutView",
            "align_content": null,
            "align_items": null,
            "align_self": null,
            "border": null,
            "bottom": null,
            "display": null,
            "flex": null,
            "flex_flow": null,
            "grid_area": null,
            "grid_auto_columns": null,
            "grid_auto_flow": null,
            "grid_auto_rows": null,
            "grid_column": null,
            "grid_gap": null,
            "grid_row": null,
            "grid_template_areas": null,
            "grid_template_columns": null,
            "grid_template_rows": null,
            "height": null,
            "justify_content": null,
            "justify_items": null,
            "left": null,
            "margin": null,
            "max_height": null,
            "max_width": null,
            "min_height": null,
            "min_width": null,
            "object_fit": null,
            "object_position": null,
            "order": null,
            "overflow": null,
            "overflow_x": null,
            "overflow_y": null,
            "padding": null,
            "right": null,
            "top": null,
            "visibility": null,
            "width": null
          }
        },
        "9e1e015b9562494caedb70dc4207c9a6": {
          "model_module": "@jupyter-widgets/controls",
          "model_name": "DescriptionStyleModel",
          "model_module_version": "1.5.0",
          "state": {
            "_model_module": "@jupyter-widgets/controls",
            "_model_module_version": "1.5.0",
            "_model_name": "DescriptionStyleModel",
            "_view_count": null,
            "_view_module": "@jupyter-widgets/base",
            "_view_module_version": "1.2.0",
            "_view_name": "StyleView",
            "description_width": ""
          }
        },
        "83cceea75bc041ceb6d290826eeef1ba": {
          "model_module": "@jupyter-widgets/base",
          "model_name": "LayoutModel",
          "model_module_version": "1.2.0",
          "state": {
            "_model_module": "@jupyter-widgets/base",
            "_model_module_version": "1.2.0",
            "_model_name": "LayoutModel",
            "_view_count": null,
            "_view_module": "@jupyter-widgets/base",
            "_view_module_version": "1.2.0",
            "_view_name": "LayoutView",
            "align_content": null,
            "align_items": null,
            "align_self": null,
            "border": null,
            "bottom": null,
            "display": null,
            "flex": null,
            "flex_flow": null,
            "grid_area": null,
            "grid_auto_columns": null,
            "grid_auto_flow": null,
            "grid_auto_rows": null,
            "grid_column": null,
            "grid_gap": null,
            "grid_row": null,
            "grid_template_areas": null,
            "grid_template_columns": null,
            "grid_template_rows": null,
            "height": null,
            "justify_content": null,
            "justify_items": null,
            "left": null,
            "margin": null,
            "max_height": null,
            "max_width": null,
            "min_height": null,
            "min_width": null,
            "object_fit": null,
            "object_position": null,
            "order": null,
            "overflow": null,
            "overflow_x": null,
            "overflow_y": null,
            "padding": null,
            "right": null,
            "top": null,
            "visibility": null,
            "width": null
          }
        },
        "e5bd764825d149ba946a9dfd54880591": {
          "model_module": "@jupyter-widgets/controls",
          "model_name": "ProgressStyleModel",
          "model_module_version": "1.5.0",
          "state": {
            "_model_module": "@jupyter-widgets/controls",
            "_model_module_version": "1.5.0",
            "_model_name": "ProgressStyleModel",
            "_view_count": null,
            "_view_module": "@jupyter-widgets/base",
            "_view_module_version": "1.2.0",
            "_view_name": "StyleView",
            "bar_color": null,
            "description_width": ""
          }
        },
        "c05cdc6320604e808568c76a2d2fb46c": {
          "model_module": "@jupyter-widgets/base",
          "model_name": "LayoutModel",
          "model_module_version": "1.2.0",
          "state": {
            "_model_module": "@jupyter-widgets/base",
            "_model_module_version": "1.2.0",
            "_model_name": "LayoutModel",
            "_view_count": null,
            "_view_module": "@jupyter-widgets/base",
            "_view_module_version": "1.2.0",
            "_view_name": "LayoutView",
            "align_content": null,
            "align_items": null,
            "align_self": null,
            "border": null,
            "bottom": null,
            "display": null,
            "flex": null,
            "flex_flow": null,
            "grid_area": null,
            "grid_auto_columns": null,
            "grid_auto_flow": null,
            "grid_auto_rows": null,
            "grid_column": null,
            "grid_gap": null,
            "grid_row": null,
            "grid_template_areas": null,
            "grid_template_columns": null,
            "grid_template_rows": null,
            "height": null,
            "justify_content": null,
            "justify_items": null,
            "left": null,
            "margin": null,
            "max_height": null,
            "max_width": null,
            "min_height": null,
            "min_width": null,
            "object_fit": null,
            "object_position": null,
            "order": null,
            "overflow": null,
            "overflow_x": null,
            "overflow_y": null,
            "padding": null,
            "right": null,
            "top": null,
            "visibility": null,
            "width": null
          }
        },
        "d21dde5e4c994d6fa465ed90e7359f51": {
          "model_module": "@jupyter-widgets/controls",
          "model_name": "DescriptionStyleModel",
          "model_module_version": "1.5.0",
          "state": {
            "_model_module": "@jupyter-widgets/controls",
            "_model_module_version": "1.5.0",
            "_model_name": "DescriptionStyleModel",
            "_view_count": null,
            "_view_module": "@jupyter-widgets/base",
            "_view_module_version": "1.2.0",
            "_view_name": "StyleView",
            "description_width": ""
          }
        },
        "ba31742fcc3c42a28b90656f81af4584": {
          "model_module": "@jupyter-widgets/controls",
          "model_name": "HBoxModel",
          "model_module_version": "1.5.0",
          "state": {
            "_dom_classes": [],
            "_model_module": "@jupyter-widgets/controls",
            "_model_module_version": "1.5.0",
            "_model_name": "HBoxModel",
            "_view_count": null,
            "_view_module": "@jupyter-widgets/controls",
            "_view_module_version": "1.5.0",
            "_view_name": "HBoxView",
            "box_style": "",
            "children": [
              "IPY_MODEL_5000b9dd45434efd996774e443644b43",
              "IPY_MODEL_733baf37e40a44a7b071e9fd206a3a95",
              "IPY_MODEL_9ec586abdd3248e89b668f3a130fe33c"
            ],
            "layout": "IPY_MODEL_285f1021f79b4a98b22916cb86eae50d"
          }
        },
        "5000b9dd45434efd996774e443644b43": {
          "model_module": "@jupyter-widgets/controls",
          "model_name": "HTMLModel",
          "model_module_version": "1.5.0",
          "state": {
            "_dom_classes": [],
            "_model_module": "@jupyter-widgets/controls",
            "_model_module_version": "1.5.0",
            "_model_name": "HTMLModel",
            "_view_count": null,
            "_view_module": "@jupyter-widgets/controls",
            "_view_module_version": "1.5.0",
            "_view_name": "HTMLView",
            "description": "",
            "description_tooltip": null,
            "layout": "IPY_MODEL_5722146eea69427a98e7d60dffd8f9f8",
            "placeholder": "​",
            "style": "IPY_MODEL_be03f3c7da4843cbafb792149cdfef41",
            "value": "Map: 100%"
          }
        },
        "733baf37e40a44a7b071e9fd206a3a95": {
          "model_module": "@jupyter-widgets/controls",
          "model_name": "FloatProgressModel",
          "model_module_version": "1.5.0",
          "state": {
            "_dom_classes": [],
            "_model_module": "@jupyter-widgets/controls",
            "_model_module_version": "1.5.0",
            "_model_name": "FloatProgressModel",
            "_view_count": null,
            "_view_module": "@jupyter-widgets/controls",
            "_view_module_version": "1.5.0",
            "_view_name": "ProgressView",
            "bar_style": "success",
            "description": "",
            "description_tooltip": null,
            "layout": "IPY_MODEL_c60e29ce2f4d4cf69f769d038b2ebeb4",
            "max": 450000,
            "min": 0,
            "orientation": "horizontal",
            "style": "IPY_MODEL_c0f2fb63b7a14109b8b3576c5cea054e",
            "value": 450000
          }
        },
        "9ec586abdd3248e89b668f3a130fe33c": {
          "model_module": "@jupyter-widgets/controls",
          "model_name": "HTMLModel",
          "model_module_version": "1.5.0",
          "state": {
            "_dom_classes": [],
            "_model_module": "@jupyter-widgets/controls",
            "_model_module_version": "1.5.0",
            "_model_name": "HTMLModel",
            "_view_count": null,
            "_view_module": "@jupyter-widgets/controls",
            "_view_module_version": "1.5.0",
            "_view_name": "HTMLView",
            "description": "",
            "description_tooltip": null,
            "layout": "IPY_MODEL_8da59af932544770a36bfd62f0d4b354",
            "placeholder": "​",
            "style": "IPY_MODEL_8bca4a1b1a574b94a1310823d816fd62",
            "value": " 450000/450000 [01:15&lt;00:00, 6513.22 examples/s]"
          }
        },
        "285f1021f79b4a98b22916cb86eae50d": {
          "model_module": "@jupyter-widgets/base",
          "model_name": "LayoutModel",
          "model_module_version": "1.2.0",
          "state": {
            "_model_module": "@jupyter-widgets/base",
            "_model_module_version": "1.2.0",
            "_model_name": "LayoutModel",
            "_view_count": null,
            "_view_module": "@jupyter-widgets/base",
            "_view_module_version": "1.2.0",
            "_view_name": "LayoutView",
            "align_content": null,
            "align_items": null,
            "align_self": null,
            "border": null,
            "bottom": null,
            "display": null,
            "flex": null,
            "flex_flow": null,
            "grid_area": null,
            "grid_auto_columns": null,
            "grid_auto_flow": null,
            "grid_auto_rows": null,
            "grid_column": null,
            "grid_gap": null,
            "grid_row": null,
            "grid_template_areas": null,
            "grid_template_columns": null,
            "grid_template_rows": null,
            "height": null,
            "justify_content": null,
            "justify_items": null,
            "left": null,
            "margin": null,
            "max_height": null,
            "max_width": null,
            "min_height": null,
            "min_width": null,
            "object_fit": null,
            "object_position": null,
            "order": null,
            "overflow": null,
            "overflow_x": null,
            "overflow_y": null,
            "padding": null,
            "right": null,
            "top": null,
            "visibility": null,
            "width": null
          }
        },
        "5722146eea69427a98e7d60dffd8f9f8": {
          "model_module": "@jupyter-widgets/base",
          "model_name": "LayoutModel",
          "model_module_version": "1.2.0",
          "state": {
            "_model_module": "@jupyter-widgets/base",
            "_model_module_version": "1.2.0",
            "_model_name": "LayoutModel",
            "_view_count": null,
            "_view_module": "@jupyter-widgets/base",
            "_view_module_version": "1.2.0",
            "_view_name": "LayoutView",
            "align_content": null,
            "align_items": null,
            "align_self": null,
            "border": null,
            "bottom": null,
            "display": null,
            "flex": null,
            "flex_flow": null,
            "grid_area": null,
            "grid_auto_columns": null,
            "grid_auto_flow": null,
            "grid_auto_rows": null,
            "grid_column": null,
            "grid_gap": null,
            "grid_row": null,
            "grid_template_areas": null,
            "grid_template_columns": null,
            "grid_template_rows": null,
            "height": null,
            "justify_content": null,
            "justify_items": null,
            "left": null,
            "margin": null,
            "max_height": null,
            "max_width": null,
            "min_height": null,
            "min_width": null,
            "object_fit": null,
            "object_position": null,
            "order": null,
            "overflow": null,
            "overflow_x": null,
            "overflow_y": null,
            "padding": null,
            "right": null,
            "top": null,
            "visibility": null,
            "width": null
          }
        },
        "be03f3c7da4843cbafb792149cdfef41": {
          "model_module": "@jupyter-widgets/controls",
          "model_name": "DescriptionStyleModel",
          "model_module_version": "1.5.0",
          "state": {
            "_model_module": "@jupyter-widgets/controls",
            "_model_module_version": "1.5.0",
            "_model_name": "DescriptionStyleModel",
            "_view_count": null,
            "_view_module": "@jupyter-widgets/base",
            "_view_module_version": "1.2.0",
            "_view_name": "StyleView",
            "description_width": ""
          }
        },
        "c60e29ce2f4d4cf69f769d038b2ebeb4": {
          "model_module": "@jupyter-widgets/base",
          "model_name": "LayoutModel",
          "model_module_version": "1.2.0",
          "state": {
            "_model_module": "@jupyter-widgets/base",
            "_model_module_version": "1.2.0",
            "_model_name": "LayoutModel",
            "_view_count": null,
            "_view_module": "@jupyter-widgets/base",
            "_view_module_version": "1.2.0",
            "_view_name": "LayoutView",
            "align_content": null,
            "align_items": null,
            "align_self": null,
            "border": null,
            "bottom": null,
            "display": null,
            "flex": null,
            "flex_flow": null,
            "grid_area": null,
            "grid_auto_columns": null,
            "grid_auto_flow": null,
            "grid_auto_rows": null,
            "grid_column": null,
            "grid_gap": null,
            "grid_row": null,
            "grid_template_areas": null,
            "grid_template_columns": null,
            "grid_template_rows": null,
            "height": null,
            "justify_content": null,
            "justify_items": null,
            "left": null,
            "margin": null,
            "max_height": null,
            "max_width": null,
            "min_height": null,
            "min_width": null,
            "object_fit": null,
            "object_position": null,
            "order": null,
            "overflow": null,
            "overflow_x": null,
            "overflow_y": null,
            "padding": null,
            "right": null,
            "top": null,
            "visibility": null,
            "width": null
          }
        },
        "c0f2fb63b7a14109b8b3576c5cea054e": {
          "model_module": "@jupyter-widgets/controls",
          "model_name": "ProgressStyleModel",
          "model_module_version": "1.5.0",
          "state": {
            "_model_module": "@jupyter-widgets/controls",
            "_model_module_version": "1.5.0",
            "_model_name": "ProgressStyleModel",
            "_view_count": null,
            "_view_module": "@jupyter-widgets/base",
            "_view_module_version": "1.2.0",
            "_view_name": "StyleView",
            "bar_color": null,
            "description_width": ""
          }
        },
        "8da59af932544770a36bfd62f0d4b354": {
          "model_module": "@jupyter-widgets/base",
          "model_name": "LayoutModel",
          "model_module_version": "1.2.0",
          "state": {
            "_model_module": "@jupyter-widgets/base",
            "_model_module_version": "1.2.0",
            "_model_name": "LayoutModel",
            "_view_count": null,
            "_view_module": "@jupyter-widgets/base",
            "_view_module_version": "1.2.0",
            "_view_name": "LayoutView",
            "align_content": null,
            "align_items": null,
            "align_self": null,
            "border": null,
            "bottom": null,
            "display": null,
            "flex": null,
            "flex_flow": null,
            "grid_area": null,
            "grid_auto_columns": null,
            "grid_auto_flow": null,
            "grid_auto_rows": null,
            "grid_column": null,
            "grid_gap": null,
            "grid_row": null,
            "grid_template_areas": null,
            "grid_template_columns": null,
            "grid_template_rows": null,
            "height": null,
            "justify_content": null,
            "justify_items": null,
            "left": null,
            "margin": null,
            "max_height": null,
            "max_width": null,
            "min_height": null,
            "min_width": null,
            "object_fit": null,
            "object_position": null,
            "order": null,
            "overflow": null,
            "overflow_x": null,
            "overflow_y": null,
            "padding": null,
            "right": null,
            "top": null,
            "visibility": null,
            "width": null
          }
        },
        "8bca4a1b1a574b94a1310823d816fd62": {
          "model_module": "@jupyter-widgets/controls",
          "model_name": "DescriptionStyleModel",
          "model_module_version": "1.5.0",
          "state": {
            "_model_module": "@jupyter-widgets/controls",
            "_model_module_version": "1.5.0",
            "_model_name": "DescriptionStyleModel",
            "_view_count": null,
            "_view_module": "@jupyter-widgets/base",
            "_view_module_version": "1.2.0",
            "_view_name": "StyleView",
            "description_width": ""
          }
        },
        "491d4859988e40858c04f6be17984e0a": {
          "model_module": "@jupyter-widgets/controls",
          "model_name": "HBoxModel",
          "model_module_version": "1.5.0",
          "state": {
            "_dom_classes": [],
            "_model_module": "@jupyter-widgets/controls",
            "_model_module_version": "1.5.0",
            "_model_name": "HBoxModel",
            "_view_count": null,
            "_view_module": "@jupyter-widgets/controls",
            "_view_module_version": "1.5.0",
            "_view_name": "HBoxView",
            "box_style": "",
            "children": [
              "IPY_MODEL_5b215574df814e47b960b62a1971ec5a",
              "IPY_MODEL_9bdf3cc2b9814f4f992e32e6a6f9a6bb",
              "IPY_MODEL_bdc80e368eea4be482ce7269405bda0c"
            ],
            "layout": "IPY_MODEL_0b8fb7737b894e019c1d99353b3a2dd1"
          }
        },
        "5b215574df814e47b960b62a1971ec5a": {
          "model_module": "@jupyter-widgets/controls",
          "model_name": "HTMLModel",
          "model_module_version": "1.5.0",
          "state": {
            "_dom_classes": [],
            "_model_module": "@jupyter-widgets/controls",
            "_model_module_version": "1.5.0",
            "_model_name": "HTMLModel",
            "_view_count": null,
            "_view_module": "@jupyter-widgets/controls",
            "_view_module_version": "1.5.0",
            "_view_name": "HTMLView",
            "description": "",
            "description_tooltip": null,
            "layout": "IPY_MODEL_fe35381ca6c3444aa45a8da7a6977a96",
            "placeholder": "​",
            "style": "IPY_MODEL_3e7152a15c064e26b7b1f652b3b1695d",
            "value": "pytorch_model.bin: 100%"
          }
        },
        "9bdf3cc2b9814f4f992e32e6a6f9a6bb": {
          "model_module": "@jupyter-widgets/controls",
          "model_name": "FloatProgressModel",
          "model_module_version": "1.5.0",
          "state": {
            "_dom_classes": [],
            "_model_module": "@jupyter-widgets/controls",
            "_model_module_version": "1.5.0",
            "_model_name": "FloatProgressModel",
            "_view_count": null,
            "_view_module": "@jupyter-widgets/controls",
            "_view_module_version": "1.5.0",
            "_view_name": "ProgressView",
            "bar_style": "success",
            "description": "",
            "description_tooltip": null,
            "layout": "IPY_MODEL_13198f15f60f471e84cf9e153d18f88c",
            "max": 371146213,
            "min": 0,
            "orientation": "horizontal",
            "style": "IPY_MODEL_7bf47901e827414d8b760b8c51030306",
            "value": 371146213
          }
        },
        "bdc80e368eea4be482ce7269405bda0c": {
          "model_module": "@jupyter-widgets/controls",
          "model_name": "HTMLModel",
          "model_module_version": "1.5.0",
          "state": {
            "_dom_classes": [],
            "_model_module": "@jupyter-widgets/controls",
            "_model_module_version": "1.5.0",
            "_model_name": "HTMLModel",
            "_view_count": null,
            "_view_module": "@jupyter-widgets/controls",
            "_view_module_version": "1.5.0",
            "_view_name": "HTMLView",
            "description": "",
            "description_tooltip": null,
            "layout": "IPY_MODEL_77a72609523047b0b1347ea47ada9423",
            "placeholder": "​",
            "style": "IPY_MODEL_70f70d0895ba40cb9c9faf7bb4d7eb8b",
            "value": " 371M/371M [00:01&lt;00:00, 231MB/s]"
          }
        },
        "0b8fb7737b894e019c1d99353b3a2dd1": {
          "model_module": "@jupyter-widgets/base",
          "model_name": "LayoutModel",
          "model_module_version": "1.2.0",
          "state": {
            "_model_module": "@jupyter-widgets/base",
            "_model_module_version": "1.2.0",
            "_model_name": "LayoutModel",
            "_view_count": null,
            "_view_module": "@jupyter-widgets/base",
            "_view_module_version": "1.2.0",
            "_view_name": "LayoutView",
            "align_content": null,
            "align_items": null,
            "align_self": null,
            "border": null,
            "bottom": null,
            "display": null,
            "flex": null,
            "flex_flow": null,
            "grid_area": null,
            "grid_auto_columns": null,
            "grid_auto_flow": null,
            "grid_auto_rows": null,
            "grid_column": null,
            "grid_gap": null,
            "grid_row": null,
            "grid_template_areas": null,
            "grid_template_columns": null,
            "grid_template_rows": null,
            "height": null,
            "justify_content": null,
            "justify_items": null,
            "left": null,
            "margin": null,
            "max_height": null,
            "max_width": null,
            "min_height": null,
            "min_width": null,
            "object_fit": null,
            "object_position": null,
            "order": null,
            "overflow": null,
            "overflow_x": null,
            "overflow_y": null,
            "padding": null,
            "right": null,
            "top": null,
            "visibility": null,
            "width": null
          }
        },
        "fe35381ca6c3444aa45a8da7a6977a96": {
          "model_module": "@jupyter-widgets/base",
          "model_name": "LayoutModel",
          "model_module_version": "1.2.0",
          "state": {
            "_model_module": "@jupyter-widgets/base",
            "_model_module_version": "1.2.0",
            "_model_name": "LayoutModel",
            "_view_count": null,
            "_view_module": "@jupyter-widgets/base",
            "_view_module_version": "1.2.0",
            "_view_name": "LayoutView",
            "align_content": null,
            "align_items": null,
            "align_self": null,
            "border": null,
            "bottom": null,
            "display": null,
            "flex": null,
            "flex_flow": null,
            "grid_area": null,
            "grid_auto_columns": null,
            "grid_auto_flow": null,
            "grid_auto_rows": null,
            "grid_column": null,
            "grid_gap": null,
            "grid_row": null,
            "grid_template_areas": null,
            "grid_template_columns": null,
            "grid_template_rows": null,
            "height": null,
            "justify_content": null,
            "justify_items": null,
            "left": null,
            "margin": null,
            "max_height": null,
            "max_width": null,
            "min_height": null,
            "min_width": null,
            "object_fit": null,
            "object_position": null,
            "order": null,
            "overflow": null,
            "overflow_x": null,
            "overflow_y": null,
            "padding": null,
            "right": null,
            "top": null,
            "visibility": null,
            "width": null
          }
        },
        "3e7152a15c064e26b7b1f652b3b1695d": {
          "model_module": "@jupyter-widgets/controls",
          "model_name": "DescriptionStyleModel",
          "model_module_version": "1.5.0",
          "state": {
            "_model_module": "@jupyter-widgets/controls",
            "_model_module_version": "1.5.0",
            "_model_name": "DescriptionStyleModel",
            "_view_count": null,
            "_view_module": "@jupyter-widgets/base",
            "_view_module_version": "1.2.0",
            "_view_name": "StyleView",
            "description_width": ""
          }
        },
        "13198f15f60f471e84cf9e153d18f88c": {
          "model_module": "@jupyter-widgets/base",
          "model_name": "LayoutModel",
          "model_module_version": "1.2.0",
          "state": {
            "_model_module": "@jupyter-widgets/base",
            "_model_module_version": "1.2.0",
            "_model_name": "LayoutModel",
            "_view_count": null,
            "_view_module": "@jupyter-widgets/base",
            "_view_module_version": "1.2.0",
            "_view_name": "LayoutView",
            "align_content": null,
            "align_items": null,
            "align_self": null,
            "border": null,
            "bottom": null,
            "display": null,
            "flex": null,
            "flex_flow": null,
            "grid_area": null,
            "grid_auto_columns": null,
            "grid_auto_flow": null,
            "grid_auto_rows": null,
            "grid_column": null,
            "grid_gap": null,
            "grid_row": null,
            "grid_template_areas": null,
            "grid_template_columns": null,
            "grid_template_rows": null,
            "height": null,
            "justify_content": null,
            "justify_items": null,
            "left": null,
            "margin": null,
            "max_height": null,
            "max_width": null,
            "min_height": null,
            "min_width": null,
            "object_fit": null,
            "object_position": null,
            "order": null,
            "overflow": null,
            "overflow_x": null,
            "overflow_y": null,
            "padding": null,
            "right": null,
            "top": null,
            "visibility": null,
            "width": null
          }
        },
        "7bf47901e827414d8b760b8c51030306": {
          "model_module": "@jupyter-widgets/controls",
          "model_name": "ProgressStyleModel",
          "model_module_version": "1.5.0",
          "state": {
            "_model_module": "@jupyter-widgets/controls",
            "_model_module_version": "1.5.0",
            "_model_name": "ProgressStyleModel",
            "_view_count": null,
            "_view_module": "@jupyter-widgets/base",
            "_view_module_version": "1.2.0",
            "_view_name": "StyleView",
            "bar_color": null,
            "description_width": ""
          }
        },
        "77a72609523047b0b1347ea47ada9423": {
          "model_module": "@jupyter-widgets/base",
          "model_name": "LayoutModel",
          "model_module_version": "1.2.0",
          "state": {
            "_model_module": "@jupyter-widgets/base",
            "_model_module_version": "1.2.0",
            "_model_name": "LayoutModel",
            "_view_count": null,
            "_view_module": "@jupyter-widgets/base",
            "_view_module_version": "1.2.0",
            "_view_name": "LayoutView",
            "align_content": null,
            "align_items": null,
            "align_self": null,
            "border": null,
            "bottom": null,
            "display": null,
            "flex": null,
            "flex_flow": null,
            "grid_area": null,
            "grid_auto_columns": null,
            "grid_auto_flow": null,
            "grid_auto_rows": null,
            "grid_column": null,
            "grid_gap": null,
            "grid_row": null,
            "grid_template_areas": null,
            "grid_template_columns": null,
            "grid_template_rows": null,
            "height": null,
            "justify_content": null,
            "justify_items": null,
            "left": null,
            "margin": null,
            "max_height": null,
            "max_width": null,
            "min_height": null,
            "min_width": null,
            "object_fit": null,
            "object_position": null,
            "order": null,
            "overflow": null,
            "overflow_x": null,
            "overflow_y": null,
            "padding": null,
            "right": null,
            "top": null,
            "visibility": null,
            "width": null
          }
        },
        "70f70d0895ba40cb9c9faf7bb4d7eb8b": {
          "model_module": "@jupyter-widgets/controls",
          "model_name": "DescriptionStyleModel",
          "model_module_version": "1.5.0",
          "state": {
            "_model_module": "@jupyter-widgets/controls",
            "_model_module_version": "1.5.0",
            "_model_name": "DescriptionStyleModel",
            "_view_count": null,
            "_view_module": "@jupyter-widgets/base",
            "_view_module_version": "1.2.0",
            "_view_name": "StyleView",
            "description_width": ""
          }
        },
        "47abc40df6ca413b9f7046f1b3391d38": {
          "model_module": "@jupyter-widgets/controls",
          "model_name": "HBoxModel",
          "model_module_version": "1.5.0",
          "state": {
            "_dom_classes": [],
            "_model_module": "@jupyter-widgets/controls",
            "_model_module_version": "1.5.0",
            "_model_name": "HBoxModel",
            "_view_count": null,
            "_view_module": "@jupyter-widgets/controls",
            "_view_module_version": "1.5.0",
            "_view_name": "HBoxView",
            "box_style": "",
            "children": [
              "IPY_MODEL_e075f80dd3514913b9a7865c00e72a79",
              "IPY_MODEL_b41ad01db30b4bcdb426ae808955e814",
              "IPY_MODEL_f99231f18fa64a59a9742f85729c1238"
            ],
            "layout": "IPY_MODEL_b1f11755c8c5458fa99effc5f7c2cdf4"
          }
        },
        "e075f80dd3514913b9a7865c00e72a79": {
          "model_module": "@jupyter-widgets/controls",
          "model_name": "HTMLModel",
          "model_module_version": "1.5.0",
          "state": {
            "_dom_classes": [],
            "_model_module": "@jupyter-widgets/controls",
            "_model_module_version": "1.5.0",
            "_model_name": "HTMLModel",
            "_view_count": null,
            "_view_module": "@jupyter-widgets/controls",
            "_view_module_version": "1.5.0",
            "_view_name": "HTMLView",
            "description": "",
            "description_tooltip": null,
            "layout": "IPY_MODEL_d4f10bbce8d5472699895ee43754aab0",
            "placeholder": "​",
            "style": "IPY_MODEL_ce1ea2bc600045f2a3ba9c6e2b27d742",
            "value": "model.safetensors: 100%"
          }
        },
        "b41ad01db30b4bcdb426ae808955e814": {
          "model_module": "@jupyter-widgets/controls",
          "model_name": "FloatProgressModel",
          "model_module_version": "1.5.0",
          "state": {
            "_dom_classes": [],
            "_model_module": "@jupyter-widgets/controls",
            "_model_module_version": "1.5.0",
            "_model_name": "FloatProgressModel",
            "_view_count": null,
            "_view_module": "@jupyter-widgets/controls",
            "_view_module_version": "1.5.0",
            "_view_name": "ProgressView",
            "bar_style": "success",
            "description": "",
            "description_tooltip": null,
            "layout": "IPY_MODEL_2d59318b87ec4931aa3c03d40fd2a936",
            "max": 371101258,
            "min": 0,
            "orientation": "horizontal",
            "style": "IPY_MODEL_2f6480ac17b543c3bb364ebf3ce7c189",
            "value": 371101258
          }
        },
        "f99231f18fa64a59a9742f85729c1238": {
          "model_module": "@jupyter-widgets/controls",
          "model_name": "HTMLModel",
          "model_module_version": "1.5.0",
          "state": {
            "_dom_classes": [],
            "_model_module": "@jupyter-widgets/controls",
            "_model_module_version": "1.5.0",
            "_model_name": "HTMLModel",
            "_view_count": null,
            "_view_module": "@jupyter-widgets/controls",
            "_view_module_version": "1.5.0",
            "_view_name": "HTMLView",
            "description": "",
            "description_tooltip": null,
            "layout": "IPY_MODEL_678ae8204b9b4d5aa97ffea899a742a1",
            "placeholder": "​",
            "style": "IPY_MODEL_79ee96104d03474ba3182db46ef893fe",
            "value": " 371M/371M [00:02&lt;00:00, 218MB/s]"
          }
        },
        "b1f11755c8c5458fa99effc5f7c2cdf4": {
          "model_module": "@jupyter-widgets/base",
          "model_name": "LayoutModel",
          "model_module_version": "1.2.0",
          "state": {
            "_model_module": "@jupyter-widgets/base",
            "_model_module_version": "1.2.0",
            "_model_name": "LayoutModel",
            "_view_count": null,
            "_view_module": "@jupyter-widgets/base",
            "_view_module_version": "1.2.0",
            "_view_name": "LayoutView",
            "align_content": null,
            "align_items": null,
            "align_self": null,
            "border": null,
            "bottom": null,
            "display": null,
            "flex": null,
            "flex_flow": null,
            "grid_area": null,
            "grid_auto_columns": null,
            "grid_auto_flow": null,
            "grid_auto_rows": null,
            "grid_column": null,
            "grid_gap": null,
            "grid_row": null,
            "grid_template_areas": null,
            "grid_template_columns": null,
            "grid_template_rows": null,
            "height": null,
            "justify_content": null,
            "justify_items": null,
            "left": null,
            "margin": null,
            "max_height": null,
            "max_width": null,
            "min_height": null,
            "min_width": null,
            "object_fit": null,
            "object_position": null,
            "order": null,
            "overflow": null,
            "overflow_x": null,
            "overflow_y": null,
            "padding": null,
            "right": null,
            "top": null,
            "visibility": null,
            "width": null
          }
        },
        "d4f10bbce8d5472699895ee43754aab0": {
          "model_module": "@jupyter-widgets/base",
          "model_name": "LayoutModel",
          "model_module_version": "1.2.0",
          "state": {
            "_model_module": "@jupyter-widgets/base",
            "_model_module_version": "1.2.0",
            "_model_name": "LayoutModel",
            "_view_count": null,
            "_view_module": "@jupyter-widgets/base",
            "_view_module_version": "1.2.0",
            "_view_name": "LayoutView",
            "align_content": null,
            "align_items": null,
            "align_self": null,
            "border": null,
            "bottom": null,
            "display": null,
            "flex": null,
            "flex_flow": null,
            "grid_area": null,
            "grid_auto_columns": null,
            "grid_auto_flow": null,
            "grid_auto_rows": null,
            "grid_column": null,
            "grid_gap": null,
            "grid_row": null,
            "grid_template_areas": null,
            "grid_template_columns": null,
            "grid_template_rows": null,
            "height": null,
            "justify_content": null,
            "justify_items": null,
            "left": null,
            "margin": null,
            "max_height": null,
            "max_width": null,
            "min_height": null,
            "min_width": null,
            "object_fit": null,
            "object_position": null,
            "order": null,
            "overflow": null,
            "overflow_x": null,
            "overflow_y": null,
            "padding": null,
            "right": null,
            "top": null,
            "visibility": null,
            "width": null
          }
        },
        "ce1ea2bc600045f2a3ba9c6e2b27d742": {
          "model_module": "@jupyter-widgets/controls",
          "model_name": "DescriptionStyleModel",
          "model_module_version": "1.5.0",
          "state": {
            "_model_module": "@jupyter-widgets/controls",
            "_model_module_version": "1.5.0",
            "_model_name": "DescriptionStyleModel",
            "_view_count": null,
            "_view_module": "@jupyter-widgets/base",
            "_view_module_version": "1.2.0",
            "_view_name": "StyleView",
            "description_width": ""
          }
        },
        "2d59318b87ec4931aa3c03d40fd2a936": {
          "model_module": "@jupyter-widgets/base",
          "model_name": "LayoutModel",
          "model_module_version": "1.2.0",
          "state": {
            "_model_module": "@jupyter-widgets/base",
            "_model_module_version": "1.2.0",
            "_model_name": "LayoutModel",
            "_view_count": null,
            "_view_module": "@jupyter-widgets/base",
            "_view_module_version": "1.2.0",
            "_view_name": "LayoutView",
            "align_content": null,
            "align_items": null,
            "align_self": null,
            "border": null,
            "bottom": null,
            "display": null,
            "flex": null,
            "flex_flow": null,
            "grid_area": null,
            "grid_auto_columns": null,
            "grid_auto_flow": null,
            "grid_auto_rows": null,
            "grid_column": null,
            "grid_gap": null,
            "grid_row": null,
            "grid_template_areas": null,
            "grid_template_columns": null,
            "grid_template_rows": null,
            "height": null,
            "justify_content": null,
            "justify_items": null,
            "left": null,
            "margin": null,
            "max_height": null,
            "max_width": null,
            "min_height": null,
            "min_width": null,
            "object_fit": null,
            "object_position": null,
            "order": null,
            "overflow": null,
            "overflow_x": null,
            "overflow_y": null,
            "padding": null,
            "right": null,
            "top": null,
            "visibility": null,
            "width": null
          }
        },
        "2f6480ac17b543c3bb364ebf3ce7c189": {
          "model_module": "@jupyter-widgets/controls",
          "model_name": "ProgressStyleModel",
          "model_module_version": "1.5.0",
          "state": {
            "_model_module": "@jupyter-widgets/controls",
            "_model_module_version": "1.5.0",
            "_model_name": "ProgressStyleModel",
            "_view_count": null,
            "_view_module": "@jupyter-widgets/base",
            "_view_module_version": "1.2.0",
            "_view_name": "StyleView",
            "bar_color": null,
            "description_width": ""
          }
        },
        "678ae8204b9b4d5aa97ffea899a742a1": {
          "model_module": "@jupyter-widgets/base",
          "model_name": "LayoutModel",
          "model_module_version": "1.2.0",
          "state": {
            "_model_module": "@jupyter-widgets/base",
            "_model_module_version": "1.2.0",
            "_model_name": "LayoutModel",
            "_view_count": null,
            "_view_module": "@jupyter-widgets/base",
            "_view_module_version": "1.2.0",
            "_view_name": "LayoutView",
            "align_content": null,
            "align_items": null,
            "align_self": null,
            "border": null,
            "bottom": null,
            "display": null,
            "flex": null,
            "flex_flow": null,
            "grid_area": null,
            "grid_auto_columns": null,
            "grid_auto_flow": null,
            "grid_auto_rows": null,
            "grid_column": null,
            "grid_gap": null,
            "grid_row": null,
            "grid_template_areas": null,
            "grid_template_columns": null,
            "grid_template_rows": null,
            "height": null,
            "justify_content": null,
            "justify_items": null,
            "left": null,
            "margin": null,
            "max_height": null,
            "max_width": null,
            "min_height": null,
            "min_width": null,
            "object_fit": null,
            "object_position": null,
            "order": null,
            "overflow": null,
            "overflow_x": null,
            "overflow_y": null,
            "padding": null,
            "right": null,
            "top": null,
            "visibility": null,
            "width": null
          }
        },
        "79ee96104d03474ba3182db46ef893fe": {
          "model_module": "@jupyter-widgets/controls",
          "model_name": "DescriptionStyleModel",
          "model_module_version": "1.5.0",
          "state": {
            "_model_module": "@jupyter-widgets/controls",
            "_model_module_version": "1.5.0",
            "_model_name": "DescriptionStyleModel",
            "_view_count": null,
            "_view_module": "@jupyter-widgets/base",
            "_view_module_version": "1.2.0",
            "_view_name": "StyleView",
            "description_width": ""
          }
        }
      }
    },
    "accelerator": "GPU"
  },
  "cells": [
    {
      "cell_type": "code",
      "execution_count": null,
      "metadata": {
        "id": "d4KciSsK1CcW",
        "colab": {
          "base_uri": "https://localhost:8080/"
        },
        "outputId": "6bd003a2-a900-403e-eb4d-9b0a866270cf"
      },
      "outputs": [
        {
          "output_type": "stream",
          "name": "stdout",
          "text": [
            "Mounted at /content/drive\n"
          ]
        }
      ],
      "source": [
        "from google.colab import drive\n",
        "drive.mount('/content/drive')"
      ]
    },
    {
      "cell_type": "code",
      "source": [
        "!pip install datasets"
      ],
      "metadata": {
        "id": "3yCRrOmf5Pdv",
        "colab": {
          "base_uri": "https://localhost:8080/"
        },
        "outputId": "1ebe59f3-e298-4209-f469-50acdef89f5a"
      },
      "execution_count": null,
      "outputs": [
        {
          "output_type": "stream",
          "name": "stdout",
          "text": [
            "Collecting datasets\n",
            "  Downloading datasets-3.3.1-py3-none-any.whl.metadata (19 kB)\n",
            "Requirement already satisfied: filelock in /usr/local/lib/python3.11/dist-packages (from datasets) (3.17.0)\n",
            "Requirement already satisfied: numpy>=1.17 in /usr/local/lib/python3.11/dist-packages (from datasets) (1.26.4)\n",
            "Requirement already satisfied: pyarrow>=15.0.0 in /usr/local/lib/python3.11/dist-packages (from datasets) (17.0.0)\n",
            "Collecting dill<0.3.9,>=0.3.0 (from datasets)\n",
            "  Downloading dill-0.3.8-py3-none-any.whl.metadata (10 kB)\n",
            "Requirement already satisfied: pandas in /usr/local/lib/python3.11/dist-packages (from datasets) (2.2.2)\n",
            "Requirement already satisfied: requests>=2.32.2 in /usr/local/lib/python3.11/dist-packages (from datasets) (2.32.3)\n",
            "Requirement already satisfied: tqdm>=4.66.3 in /usr/local/lib/python3.11/dist-packages (from datasets) (4.67.1)\n",
            "Collecting xxhash (from datasets)\n",
            "  Downloading xxhash-3.5.0-cp311-cp311-manylinux_2_17_x86_64.manylinux2014_x86_64.whl.metadata (12 kB)\n",
            "Collecting multiprocess<0.70.17 (from datasets)\n",
            "  Downloading multiprocess-0.70.16-py311-none-any.whl.metadata (7.2 kB)\n",
            "Requirement already satisfied: fsspec<=2024.12.0,>=2023.1.0 in /usr/local/lib/python3.11/dist-packages (from fsspec[http]<=2024.12.0,>=2023.1.0->datasets) (2024.10.0)\n",
            "Requirement already satisfied: aiohttp in /usr/local/lib/python3.11/dist-packages (from datasets) (3.11.12)\n",
            "Requirement already satisfied: huggingface-hub>=0.24.0 in /usr/local/lib/python3.11/dist-packages (from datasets) (0.28.1)\n",
            "Requirement already satisfied: packaging in /usr/local/lib/python3.11/dist-packages (from datasets) (24.2)\n",
            "Requirement already satisfied: pyyaml>=5.1 in /usr/local/lib/python3.11/dist-packages (from datasets) (6.0.2)\n",
            "Requirement already satisfied: aiohappyeyeballs>=2.3.0 in /usr/local/lib/python3.11/dist-packages (from aiohttp->datasets) (2.4.6)\n",
            "Requirement already satisfied: aiosignal>=1.1.2 in /usr/local/lib/python3.11/dist-packages (from aiohttp->datasets) (1.3.2)\n",
            "Requirement already satisfied: attrs>=17.3.0 in /usr/local/lib/python3.11/dist-packages (from aiohttp->datasets) (25.1.0)\n",
            "Requirement already satisfied: frozenlist>=1.1.1 in /usr/local/lib/python3.11/dist-packages (from aiohttp->datasets) (1.5.0)\n",
            "Requirement already satisfied: multidict<7.0,>=4.5 in /usr/local/lib/python3.11/dist-packages (from aiohttp->datasets) (6.1.0)\n",
            "Requirement already satisfied: propcache>=0.2.0 in /usr/local/lib/python3.11/dist-packages (from aiohttp->datasets) (0.2.1)\n",
            "Requirement already satisfied: yarl<2.0,>=1.17.0 in /usr/local/lib/python3.11/dist-packages (from aiohttp->datasets) (1.18.3)\n",
            "Requirement already satisfied: typing-extensions>=3.7.4.3 in /usr/local/lib/python3.11/dist-packages (from huggingface-hub>=0.24.0->datasets) (4.12.2)\n",
            "Requirement already satisfied: charset-normalizer<4,>=2 in /usr/local/lib/python3.11/dist-packages (from requests>=2.32.2->datasets) (3.4.1)\n",
            "Requirement already satisfied: idna<4,>=2.5 in /usr/local/lib/python3.11/dist-packages (from requests>=2.32.2->datasets) (3.10)\n",
            "Requirement already satisfied: urllib3<3,>=1.21.1 in /usr/local/lib/python3.11/dist-packages (from requests>=2.32.2->datasets) (2.3.0)\n",
            "Requirement already satisfied: certifi>=2017.4.17 in /usr/local/lib/python3.11/dist-packages (from requests>=2.32.2->datasets) (2025.1.31)\n",
            "Requirement already satisfied: python-dateutil>=2.8.2 in /usr/local/lib/python3.11/dist-packages (from pandas->datasets) (2.8.2)\n",
            "Requirement already satisfied: pytz>=2020.1 in /usr/local/lib/python3.11/dist-packages (from pandas->datasets) (2025.1)\n",
            "Requirement already satisfied: tzdata>=2022.7 in /usr/local/lib/python3.11/dist-packages (from pandas->datasets) (2025.1)\n",
            "Requirement already satisfied: six>=1.5 in /usr/local/lib/python3.11/dist-packages (from python-dateutil>=2.8.2->pandas->datasets) (1.17.0)\n",
            "Downloading datasets-3.3.1-py3-none-any.whl (484 kB)\n",
            "\u001b[2K   \u001b[90m━━━━━━━━━━━━━━━━━━━━━━━━━━━━━━━━━━━━━━━━\u001b[0m \u001b[32m484.9/484.9 kB\u001b[0m \u001b[31m9.6 MB/s\u001b[0m eta \u001b[36m0:00:00\u001b[0m\n",
            "\u001b[?25hDownloading dill-0.3.8-py3-none-any.whl (116 kB)\n",
            "\u001b[2K   \u001b[90m━━━━━━━━━━━━━━━━━━━━━━━━━━━━━━━━━━━━━━━━\u001b[0m \u001b[32m116.3/116.3 kB\u001b[0m \u001b[31m10.5 MB/s\u001b[0m eta \u001b[36m0:00:00\u001b[0m\n",
            "\u001b[?25hDownloading multiprocess-0.70.16-py311-none-any.whl (143 kB)\n",
            "\u001b[2K   \u001b[90m━━━━━━━━━━━━━━━━━━━━━━━━━━━━━━━━━━━━━━━━\u001b[0m \u001b[32m143.5/143.5 kB\u001b[0m \u001b[31m12.3 MB/s\u001b[0m eta \u001b[36m0:00:00\u001b[0m\n",
            "\u001b[?25hDownloading xxhash-3.5.0-cp311-cp311-manylinux_2_17_x86_64.manylinux2014_x86_64.whl (194 kB)\n",
            "\u001b[2K   \u001b[90m━━━━━━━━━━━━━━━━━━━━━━━━━━━━━━━━━━━━━━━━\u001b[0m \u001b[32m194.8/194.8 kB\u001b[0m \u001b[31m15.3 MB/s\u001b[0m eta \u001b[36m0:00:00\u001b[0m\n",
            "\u001b[?25hInstalling collected packages: xxhash, dill, multiprocess, datasets\n",
            "Successfully installed datasets-3.3.1 dill-0.3.8 multiprocess-0.70.16 xxhash-3.5.0\n"
          ]
        }
      ]
    },
    {
      "cell_type": "code",
      "source": [
        "!pip install wandb"
      ],
      "metadata": {
        "colab": {
          "base_uri": "https://localhost:8080/"
        },
        "id": "zwXKv6bYztJU",
        "outputId": "1f65dc4d-80eb-4aa9-e99e-688a9ddb1758"
      },
      "execution_count": null,
      "outputs": [
        {
          "output_type": "stream",
          "name": "stdout",
          "text": [
            "Requirement already satisfied: wandb in /usr/local/lib/python3.11/dist-packages (0.19.6)\n",
            "Requirement already satisfied: click!=8.0.0,>=7.1 in /usr/local/lib/python3.11/dist-packages (from wandb) (8.1.8)\n",
            "Requirement already satisfied: docker-pycreds>=0.4.0 in /usr/local/lib/python3.11/dist-packages (from wandb) (0.4.0)\n",
            "Requirement already satisfied: gitpython!=3.1.29,>=1.0.0 in /usr/local/lib/python3.11/dist-packages (from wandb) (3.1.44)\n",
            "Requirement already satisfied: platformdirs in /usr/local/lib/python3.11/dist-packages (from wandb) (4.3.6)\n",
            "Requirement already satisfied: protobuf!=4.21.0,!=5.28.0,<6,>=3.19.0 in /usr/local/lib/python3.11/dist-packages (from wandb) (4.25.6)\n",
            "Requirement already satisfied: psutil>=5.0.0 in /usr/local/lib/python3.11/dist-packages (from wandb) (5.9.5)\n",
            "Requirement already satisfied: pydantic<3,>=2.6 in /usr/local/lib/python3.11/dist-packages (from wandb) (2.10.6)\n",
            "Requirement already satisfied: pyyaml in /usr/local/lib/python3.11/dist-packages (from wandb) (6.0.2)\n",
            "Requirement already satisfied: requests<3,>=2.0.0 in /usr/local/lib/python3.11/dist-packages (from wandb) (2.32.3)\n",
            "Requirement already satisfied: sentry-sdk>=2.0.0 in /usr/local/lib/python3.11/dist-packages (from wandb) (2.21.0)\n",
            "Requirement already satisfied: setproctitle in /usr/local/lib/python3.11/dist-packages (from wandb) (1.3.4)\n",
            "Requirement already satisfied: setuptools in /usr/local/lib/python3.11/dist-packages (from wandb) (75.1.0)\n",
            "Requirement already satisfied: typing-extensions<5,>=4.4 in /usr/local/lib/python3.11/dist-packages (from wandb) (4.12.2)\n",
            "Requirement already satisfied: six>=1.4.0 in /usr/local/lib/python3.11/dist-packages (from docker-pycreds>=0.4.0->wandb) (1.17.0)\n",
            "Requirement already satisfied: gitdb<5,>=4.0.1 in /usr/local/lib/python3.11/dist-packages (from gitpython!=3.1.29,>=1.0.0->wandb) (4.0.12)\n",
            "Requirement already satisfied: annotated-types>=0.6.0 in /usr/local/lib/python3.11/dist-packages (from pydantic<3,>=2.6->wandb) (0.7.0)\n",
            "Requirement already satisfied: pydantic-core==2.27.2 in /usr/local/lib/python3.11/dist-packages (from pydantic<3,>=2.6->wandb) (2.27.2)\n",
            "Requirement already satisfied: charset-normalizer<4,>=2 in /usr/local/lib/python3.11/dist-packages (from requests<3,>=2.0.0->wandb) (3.4.1)\n",
            "Requirement already satisfied: idna<4,>=2.5 in /usr/local/lib/python3.11/dist-packages (from requests<3,>=2.0.0->wandb) (3.10)\n",
            "Requirement already satisfied: urllib3<3,>=1.21.1 in /usr/local/lib/python3.11/dist-packages (from requests<3,>=2.0.0->wandb) (2.3.0)\n",
            "Requirement already satisfied: certifi>=2017.4.17 in /usr/local/lib/python3.11/dist-packages (from requests<3,>=2.0.0->wandb) (2025.1.31)\n",
            "Requirement already satisfied: smmap<6,>=3.0.1 in /usr/local/lib/python3.11/dist-packages (from gitdb<5,>=4.0.1->gitpython!=3.1.29,>=1.0.0->wandb) (5.0.2)\n"
          ]
        }
      ]
    },
    {
      "cell_type": "code",
      "source": [
        "import pandas as pd\n",
        "from datasets import Dataset\n",
        "from transformers import AutoTokenizer, AutoConfig, DebertaV2Config, DebertaV2ForSequenceClassification, Trainer, TrainingArguments, EarlyStoppingCallback\n",
        "import torch\n",
        "import os\n",
        "import gc\n",
        "from sklearn.metrics import accuracy_score, precision_recall_fscore_support, matthews_corrcoef\n",
        "import numpy as np\n",
        "import matplotlib.pyplot as plt"
      ],
      "metadata": {
        "id": "qgmKl7gD4qjh"
      },
      "execution_count": null,
      "outputs": []
    },
    {
      "cell_type": "code",
      "source": [
        "!wandb login\n",
        "#31c3e3f7ed9f3d17977e89a80ca5f4af872642ef"
      ],
      "metadata": {
        "colab": {
          "base_uri": "https://localhost:8080/"
        },
        "id": "LA2bS8L5z5-n",
        "outputId": "49f8db0c-0793-4ff8-db0b-dc500c3985f2"
      },
      "execution_count": null,
      "outputs": [
        {
          "output_type": "stream",
          "name": "stdout",
          "text": [
            "\u001b[34m\u001b[1mwandb\u001b[0m: Logging into wandb.ai. (Learn how to deploy a W&B server locally: https://wandb.me/wandb-server)\n",
            "\u001b[34m\u001b[1mwandb\u001b[0m: You can find your API key in your browser here: https://wandb.ai/authorize\n",
            "\u001b[34m\u001b[1mwandb\u001b[0m: Paste an API key from your profile and hit enter, or press ctrl+c to quit: \n",
            "\u001b[34m\u001b[1mwandb\u001b[0m: Appending key for api.wandb.ai to your netrc file: /root/.netrc\n",
            "\u001b[34m\u001b[1mwandb\u001b[0m: Currently logged in as: \u001b[33msandraru\u001b[0m (\u001b[33msandraru-victoria-university\u001b[0m) to \u001b[32mhttps://api.wandb.ai\u001b[0m. Use \u001b[1m`wandb login --relogin`\u001b[0m to force relogin\n"
          ]
        }
      ]
    },
    {
      "cell_type": "code",
      "source": [
        "import wandb\n",
        "wandb.init(project=\"CHIPP-AI-model65\")"
      ],
      "metadata": {
        "colab": {
          "base_uri": "https://localhost:8080/",
          "height": 579
        },
        "id": "EwT0heoA0mLA",
        "outputId": "0406faa2-00ff-463f-ab54-3c49f52a5bbc"
      },
      "execution_count": null,
      "outputs": [
        {
          "output_type": "stream",
          "name": "stderr",
          "text": [
            "\u001b[34m\u001b[1mwandb\u001b[0m: Currently logged in as: \u001b[33msandraru\u001b[0m (\u001b[33msandraru-victoria-university\u001b[0m) to \u001b[32mhttps://api.wandb.ai\u001b[0m. Use \u001b[1m`wandb login --relogin`\u001b[0m to force relogin\n",
            "\u001b[34m\u001b[1mwandb\u001b[0m: Using wandb-core as the SDK backend.  Please refer to https://wandb.me/wandb-core for more information.\n"
          ]
        },
        {
          "output_type": "display_data",
          "data": {
            "text/plain": [
              "<IPython.core.display.HTML object>"
            ],
            "text/html": [
              "Tracking run with wandb version 0.19.6"
            ]
          },
          "metadata": {}
        },
        {
          "output_type": "display_data",
          "data": {
            "text/plain": [
              "<IPython.core.display.HTML object>"
            ],
            "text/html": [
              "Run data is saved locally in <code>/content/wandb/run-20250217_213122-na1xljfh</code>"
            ]
          },
          "metadata": {}
        },
        {
          "output_type": "display_data",
          "data": {
            "text/plain": [
              "<IPython.core.display.HTML object>"
            ],
            "text/html": [
              "Syncing run <strong><a href='https://wandb.ai/sandraru-victoria-university/CHIPP-AI-model65/runs/na1xljfh' target=\"_blank\">comic-music-1</a></strong> to <a href='https://wandb.ai/sandraru-victoria-university/CHIPP-AI-model65' target=\"_blank\">Weights & Biases</a> (<a href='https://wandb.me/developer-guide' target=\"_blank\">docs</a>)<br>"
            ]
          },
          "metadata": {}
        },
        {
          "output_type": "display_data",
          "data": {
            "text/plain": [
              "<IPython.core.display.HTML object>"
            ],
            "text/html": [
              " View project at <a href='https://wandb.ai/sandraru-victoria-university/CHIPP-AI-model65' target=\"_blank\">https://wandb.ai/sandraru-victoria-university/CHIPP-AI-model65</a>"
            ]
          },
          "metadata": {}
        },
        {
          "output_type": "display_data",
          "data": {
            "text/plain": [
              "<IPython.core.display.HTML object>"
            ],
            "text/html": [
              " View run at <a href='https://wandb.ai/sandraru-victoria-university/CHIPP-AI-model65/runs/na1xljfh' target=\"_blank\">https://wandb.ai/sandraru-victoria-university/CHIPP-AI-model65/runs/na1xljfh</a>"
            ]
          },
          "metadata": {}
        },
        {
          "output_type": "execute_result",
          "data": {
            "text/html": [
              "<button onClick=\"this.nextSibling.style.display='block';this.style.display='none';\">Display W&B run</button><iframe src='https://wandb.ai/sandraru-victoria-university/CHIPP-AI-model65/runs/na1xljfh?jupyter=true' style='border:none;width:100%;height:420px;display:none;'></iframe>"
            ],
            "text/plain": [
              "<wandb.sdk.wandb_run.Run at 0x7d1d16fac0d0>"
            ]
          },
          "metadata": {},
          "execution_count": 27
        }
      ]
    },
    {
      "cell_type": "code",
      "source": [
        "model_name = 'microsoft/deberta-v3-base'"
      ],
      "metadata": {
        "id": "mHZCgJleyds6"
      },
      "execution_count": null,
      "outputs": []
    },
    {
      "cell_type": "markdown",
      "source": [
        "# Loading the dataset"
      ],
      "metadata": {
        "id": "tRNDPDutqYRP"
      }
    },
    {
      "cell_type": "code",
      "source": [
        "train_df = pd.read_csv('/content/drive/MyDrive/Datasets/train_65_10_25.csv')\n",
        "val_df = pd.read_csv('/content/drive/MyDrive/Datasets/val.csv')\n",
        "test_df = pd.read_csv('/content/drive/MyDrive/Datasets/test.csv')"
      ],
      "metadata": {
        "id": "AM44W-_64-rH"
      },
      "execution_count": null,
      "outputs": []
    },
    {
      "cell_type": "code",
      "source": [
        "train_df.isna().sum()"
      ],
      "metadata": {
        "colab": {
          "base_uri": "https://localhost:8080/",
          "height": 146
        },
        "id": "kHIawjM0l9kB",
        "outputId": "c0d746d0-7746-46a8-a7be-e77142087592"
      },
      "execution_count": null,
      "outputs": [
        {
          "output_type": "execute_result",
          "data": {
            "text/plain": [
              "review       0\n",
              "sentiment    0\n",
              "dtype: int64"
            ],
            "text/html": [
              "<div>\n",
              "<style scoped>\n",
              "    .dataframe tbody tr th:only-of-type {\n",
              "        vertical-align: middle;\n",
              "    }\n",
              "\n",
              "    .dataframe tbody tr th {\n",
              "        vertical-align: top;\n",
              "    }\n",
              "\n",
              "    .dataframe thead th {\n",
              "        text-align: right;\n",
              "    }\n",
              "</style>\n",
              "<table border=\"1\" class=\"dataframe\">\n",
              "  <thead>\n",
              "    <tr style=\"text-align: right;\">\n",
              "      <th></th>\n",
              "      <th>0</th>\n",
              "    </tr>\n",
              "  </thead>\n",
              "  <tbody>\n",
              "    <tr>\n",
              "      <th>review</th>\n",
              "      <td>0</td>\n",
              "    </tr>\n",
              "    <tr>\n",
              "      <th>sentiment</th>\n",
              "      <td>0</td>\n",
              "    </tr>\n",
              "  </tbody>\n",
              "</table>\n",
              "</div><br><label><b>dtype:</b> int64</label>"
            ]
          },
          "metadata": {},
          "execution_count": 6
        }
      ]
    },
    {
      "cell_type": "code",
      "source": [
        "train_df.value_counts('sentiment')"
      ],
      "metadata": {
        "colab": {
          "base_uri": "https://localhost:8080/",
          "height": 209
        },
        "id": "QkwLITcbIjYz",
        "outputId": "58b62a7b-3dfc-4e3b-fa1a-76397890c140"
      },
      "execution_count": null,
      "outputs": [
        {
          "output_type": "execute_result",
          "data": {
            "text/plain": [
              "sentiment\n",
              "2    1365000\n",
              "0     525000\n",
              "1     210000\n",
              "Name: count, dtype: int64"
            ],
            "text/html": [
              "<div>\n",
              "<style scoped>\n",
              "    .dataframe tbody tr th:only-of-type {\n",
              "        vertical-align: middle;\n",
              "    }\n",
              "\n",
              "    .dataframe tbody tr th {\n",
              "        vertical-align: top;\n",
              "    }\n",
              "\n",
              "    .dataframe thead th {\n",
              "        text-align: right;\n",
              "    }\n",
              "</style>\n",
              "<table border=\"1\" class=\"dataframe\">\n",
              "  <thead>\n",
              "    <tr style=\"text-align: right;\">\n",
              "      <th></th>\n",
              "      <th>count</th>\n",
              "    </tr>\n",
              "    <tr>\n",
              "      <th>sentiment</th>\n",
              "      <th></th>\n",
              "    </tr>\n",
              "  </thead>\n",
              "  <tbody>\n",
              "    <tr>\n",
              "      <th>2</th>\n",
              "      <td>1365000</td>\n",
              "    </tr>\n",
              "    <tr>\n",
              "      <th>0</th>\n",
              "      <td>525000</td>\n",
              "    </tr>\n",
              "    <tr>\n",
              "      <th>1</th>\n",
              "      <td>210000</td>\n",
              "    </tr>\n",
              "  </tbody>\n",
              "</table>\n",
              "</div><br><label><b>dtype:</b> int64</label>"
            ]
          },
          "metadata": {},
          "execution_count": 7
        }
      ]
    },
    {
      "cell_type": "code",
      "source": [
        "train_dataset = Dataset.from_pandas(train_df)\n",
        "val_dataset = Dataset.from_pandas(val_df)\n",
        "test_dataset = Dataset.from_pandas(test_df)"
      ],
      "metadata": {
        "id": "B_prp3ek7YVG"
      },
      "execution_count": null,
      "outputs": []
    },
    {
      "cell_type": "markdown",
      "source": [
        "# Tokenizing"
      ],
      "metadata": {
        "id": "jbx-3z0CqeAo"
      }
    },
    {
      "cell_type": "code",
      "source": [
        "tokenizer = AutoTokenizer.from_pretrained(model_name)"
      ],
      "metadata": {
        "id": "IB3ZrCu06sMo",
        "colab": {
          "base_uri": "https://localhost:8080/",
          "height": 272,
          "referenced_widgets": [
            "0057f298ed884f028ee2bf3fdfbac69e",
            "3e93cded361c4625833e3f1aef0e81c3",
            "6fc34b1fe61a4be9b7690a8496db474b",
            "bc3765b4051c41b4afcfad781bf0d9e1",
            "3166f478bb194fd89ffb9563bf96eb63",
            "f17a6a12b133461d90ae5a7b5683f333",
            "aaeee4f179134068b04a147a41410caf",
            "985c2209cfed4a8e95dd61fd7fa58b8b",
            "81ef73624718478894d6ca60720dd4dc",
            "d28c8f554dbb4efeba100adfa13eee2b",
            "65f01c6380084ff1a7a4b301915fccba",
            "85f8bfd8a5694269a8d50f8ef079c19d",
            "b47b76ef93cc4c9eb88e4154287fe61a",
            "9456f1e6285b49cab4ecce2c10eaaed2",
            "8df9a8c2bb5d42dfa085b8849c546db5",
            "398a82a11e5d40b8bdcd884abf3e373b",
            "6e91690239f24fa69266a5c963d0e277",
            "299f9080619b4f1d952baec606351aca",
            "b706440fb0db44928d7b3afbea7d1421",
            "6c01d49b74da4c5fa37b0f05934fac24",
            "e8f00e948f7246f7a80cebfb13d710bc",
            "f3ac0faffc004ca0a9ce14d8cf3b2088",
            "8905cf383660424a916cdbedf5e6563d",
            "9703c43735c944a9bf5410ba61981830",
            "30b9937167b542e080649466510c843a",
            "b3a95bea0b064e00ba3b6259ecf3a672",
            "38aaac4d44c4480e9d9f10eefebfea13",
            "602ae456032d4f21bc799732edf8441e",
            "4a0a7d069e5b4caeb8416299239f54db",
            "1e4da703f2034d729f00fab98679b752",
            "bc5f082d1f354d839dc0214d2d29b9ec",
            "c763091ff821486492ea224d4c131394",
            "3f67820149ae4a2aafba967be78ab531"
          ]
        },
        "outputId": "55e38510-47a3-48b0-94bf-bb1abe8a3496"
      },
      "execution_count": null,
      "outputs": [
        {
          "output_type": "stream",
          "name": "stderr",
          "text": [
            "/usr/local/lib/python3.11/dist-packages/huggingface_hub/utils/_auth.py:94: UserWarning: \n",
            "The secret `HF_TOKEN` does not exist in your Colab secrets.\n",
            "To authenticate with the Hugging Face Hub, create a token in your settings tab (https://huggingface.co/settings/tokens), set it as secret in your Google Colab and restart your session.\n",
            "You will be able to reuse this secret in all of your notebooks.\n",
            "Please note that authentication is recommended but still optional to access public models or datasets.\n",
            "  warnings.warn(\n"
          ]
        },
        {
          "output_type": "display_data",
          "data": {
            "text/plain": [
              "tokenizer_config.json:   0%|          | 0.00/52.0 [00:00<?, ?B/s]"
            ],
            "application/vnd.jupyter.widget-view+json": {
              "version_major": 2,
              "version_minor": 0,
              "model_id": "0057f298ed884f028ee2bf3fdfbac69e"
            }
          },
          "metadata": {}
        },
        {
          "output_type": "display_data",
          "data": {
            "text/plain": [
              "config.json:   0%|          | 0.00/579 [00:00<?, ?B/s]"
            ],
            "application/vnd.jupyter.widget-view+json": {
              "version_major": 2,
              "version_minor": 0,
              "model_id": "85f8bfd8a5694269a8d50f8ef079c19d"
            }
          },
          "metadata": {}
        },
        {
          "output_type": "display_data",
          "data": {
            "text/plain": [
              "spm.model:   0%|          | 0.00/2.46M [00:00<?, ?B/s]"
            ],
            "application/vnd.jupyter.widget-view+json": {
              "version_major": 2,
              "version_minor": 0,
              "model_id": "8905cf383660424a916cdbedf5e6563d"
            }
          },
          "metadata": {}
        },
        {
          "output_type": "stream",
          "name": "stderr",
          "text": [
            "/usr/local/lib/python3.11/dist-packages/transformers/convert_slow_tokenizer.py:561: UserWarning: The sentencepiece tokenizer that you are converting to a fast tokenizer uses the byte fallback option which is not implemented in the fast tokenizers. In practice this means that the fast version of the tokenizer can produce unknown tokens whereas the sentencepiece version would have converted these unknown tokens into a sequence of byte tokens matching the original piece of text.\n",
            "  warnings.warn(\n"
          ]
        }
      ]
    },
    {
      "cell_type": "code",
      "source": [
        "type(tokenizer)"
      ],
      "metadata": {
        "colab": {
          "base_uri": "https://localhost:8080/",
          "height": 394
        },
        "id": "IrYww7mLnMly",
        "outputId": "44705ac2-ae43-49f3-ffd4-ac5452f00ea5"
      },
      "execution_count": null,
      "outputs": [
        {
          "output_type": "execute_result",
          "data": {
            "text/plain": [
              "transformers.models.deberta_v2.tokenization_deberta_v2_fast.DebertaV2TokenizerFast"
            ],
            "text/html": [
              "<div style=\"max-width:800px; border: 1px solid var(--colab-border-color);\"><style>\n",
              "      pre.function-repr-contents {\n",
              "        overflow-x: auto;\n",
              "        padding: 8px 12px;\n",
              "        max-height: 500px;\n",
              "      }\n",
              "\n",
              "      pre.function-repr-contents.function-repr-contents-collapsed {\n",
              "        cursor: pointer;\n",
              "        max-height: 100px;\n",
              "      }\n",
              "    </style>\n",
              "    <pre style=\"white-space: initial; background:\n",
              "         var(--colab-secondary-surface-color); padding: 8px 12px;\n",
              "         border-bottom: 1px solid var(--colab-border-color);\"><b>transformers.models.deberta_v2.tokenization_deberta_v2_fast.DebertaV2TokenizerFast</b><br/>def __call__(text: Union[TextInput, PreTokenizedInput, List[TextInput], List[PreTokenizedInput]]=None, text_pair: Optional[Union[TextInput, PreTokenizedInput, List[TextInput], List[PreTokenizedInput]]]=None, text_target: Union[TextInput, PreTokenizedInput, List[TextInput], List[PreTokenizedInput]]=None, text_pair_target: Optional[Union[TextInput, PreTokenizedInput, List[TextInput], List[PreTokenizedInput]]]=None, add_special_tokens: bool=True, padding: Union[bool, str, PaddingStrategy]=False, truncation: Union[bool, str, TruncationStrategy]=None, max_length: Optional[int]=None, stride: int=0, is_split_into_words: bool=False, pad_to_multiple_of: Optional[int]=None, padding_side: Optional[bool]=None, return_tensors: Optional[Union[str, TensorType]]=None, return_token_type_ids: Optional[bool]=None, return_attention_mask: Optional[bool]=None, return_overflowing_tokens: bool=False, return_special_tokens_mask: bool=False, return_offsets_mapping: bool=False, return_length: bool=False, verbose: bool=True, **kwargs) -&gt; BatchEncoding</pre><pre class=\"function-repr-contents function-repr-contents-collapsed\" style=\"\"><a class=\"filepath\" style=\"display:none\" href=\"#\">/usr/local/lib/python3.11/dist-packages/transformers/models/deberta_v2/tokenization_deberta_v2_fast.py</a>Constructs a DeBERTa-v2 fast tokenizer. Based on [SentencePiece](https://github.com/google/sentencepiece).\n",
              "\n",
              "Args:\n",
              "    vocab_file (`str`):\n",
              "        [SentencePiece](https://github.com/google/sentencepiece) file (generally has a *.spm* extension) that\n",
              "        contains the vocabulary necessary to instantiate a tokenizer.\n",
              "    do_lower_case (`bool`, *optional*, defaults to `False`):\n",
              "        Whether or not to lowercase the input when tokenizing.\n",
              "    bos_token (`string`, *optional*, defaults to `&quot;[CLS]&quot;`):\n",
              "        The beginning of sequence token that was used during pre-training. Can be used a sequence classifier token.\n",
              "        When building a sequence using special tokens, this is not the token that is used for the beginning of\n",
              "        sequence. The token used is the `cls_token`.\n",
              "    eos_token (`string`, *optional*, defaults to `&quot;[SEP]&quot;`):\n",
              "        The end of sequence token. When building a sequence using special tokens, this is not the token that is\n",
              "        used for the end of sequence. The token used is the `sep_token`.\n",
              "    unk_token (`str`, *optional*, defaults to `&quot;[UNK]&quot;`):\n",
              "        The unknown token. A token that is not in the vocabulary cannot be converted to an ID and is set to be this\n",
              "        token instead.\n",
              "    sep_token (`str`, *optional*, defaults to `&quot;[SEP]&quot;`):\n",
              "        The separator token, which is used when building a sequence from multiple sequences, e.g. two sequences for\n",
              "        sequence classification or for a text and a question for question answering. It is also used as the last\n",
              "        token of a sequence built with special tokens.\n",
              "    pad_token (`str`, *optional*, defaults to `&quot;[PAD]&quot;`):\n",
              "        The token used for padding, for example when batching sequences of different lengths.\n",
              "    cls_token (`str`, *optional*, defaults to `&quot;[CLS]&quot;`):\n",
              "        The classifier token which is used when doing sequence classification (classification of the whole sequence\n",
              "        instead of per-token classification). It is the first token of the sequence when built with special tokens.\n",
              "    mask_token (`str`, *optional*, defaults to `&quot;[MASK]&quot;`):\n",
              "        The token used for masking values. This is the token used when training this model with masked language\n",
              "        modeling. This is the token which the model will try to predict.\n",
              "    sp_model_kwargs (`dict`, *optional*):\n",
              "        Will be passed to the `SentencePieceProcessor.__init__()` method. The [Python wrapper for\n",
              "        SentencePiece](https://github.com/google/sentencepiece/tree/master/python) can be used, among other things,\n",
              "        to set:\n",
              "\n",
              "        - `enable_sampling`: Enable subword regularization.\n",
              "        - `nbest_size`: Sampling parameters for unigram. Invalid for BPE-Dropout.\n",
              "\n",
              "          - `nbest_size = {0,1}`: No sampling is performed.\n",
              "          - `nbest_size &gt; 1`: samples from the nbest_size results.\n",
              "          - `nbest_size &lt; 0`: assuming that nbest_size is infinite and samples from the all hypothesis (lattice)\n",
              "            using forward-filtering-and-backward-sampling algorithm.\n",
              "\n",
              "        - `alpha`: Smoothing parameter for unigram sampling, and dropout probability of merge operations for\n",
              "          BPE-dropout.</pre>\n",
              "      <script>\n",
              "      if (google.colab.kernel.accessAllowed && google.colab.files && google.colab.files.view) {\n",
              "        for (const element of document.querySelectorAll('.filepath')) {\n",
              "          element.style.display = 'block'\n",
              "          element.onclick = (event) => {\n",
              "            event.preventDefault();\n",
              "            event.stopPropagation();\n",
              "            google.colab.files.view(element.textContent, 36);\n",
              "          };\n",
              "        }\n",
              "      }\n",
              "      for (const element of document.querySelectorAll('.function-repr-contents')) {\n",
              "        element.onclick = (event) => {\n",
              "          event.preventDefault();\n",
              "          event.stopPropagation();\n",
              "          element.classList.toggle('function-repr-contents-collapsed');\n",
              "        };\n",
              "      }\n",
              "      </script>\n",
              "      </div>"
            ]
          },
          "metadata": {},
          "execution_count": 10
        }
      ]
    },
    {
      "cell_type": "code",
      "source": [
        "# Calculating the tokenized sequence lengths in the training dataset\n",
        "# Determining an optimal max_length\n",
        "tokenized_lengths = [\n",
        "    {'review': review, 'length': len(tokenizer(review)['input_ids'])}\n",
        "    for review in train_dataset['review']\n",
        "]"
      ],
      "metadata": {
        "id": "a5X6lenw0tMH"
      },
      "execution_count": null,
      "outputs": []
    },
    {
      "cell_type": "code",
      "source": [
        "all_lengths = [review['length'] for review in tokenized_lengths]\n",
        "print(f\"95th percentile of sequence lengths: {int(np.percentile(all_lengths, 95))}\")\n",
        "print(f\"98th percentile of sequence lengths: {int(np.percentile(all_lengths, 98))}\")\n",
        "print(f\"99th percentile of sequence lengths: {int(np.percentile(all_lengths, 99))}\")\n",
        "print(f\"99.5th percentile of sequence lengths: {int(np.percentile(all_lengths, 99.5))}\")\n",
        "\n",
        "longest_review = max(tokenized_lengths, key=lambda x: x['length'])\n",
        "print(f\"Longest sequence length: {longest_review['length']}\")\n",
        "print(f\"Review with the longest sequence: {longest_review['review']}\")"
      ],
      "metadata": {
        "colab": {
          "base_uri": "https://localhost:8080/"
        },
        "id": "4Yqjyz9S02R3",
        "outputId": "838796ba-2df4-4316-a9bb-df2bbdb76ec1"
      },
      "execution_count": null,
      "outputs": [
        {
          "output_type": "stream",
          "name": "stdout",
          "text": [
            "95th percentile of sequence lengths: 160\n",
            "98th percentile of sequence lengths: 246\n",
            "99th percentile of sequence lengths: 333\n",
            "99.5th percentile of sequence lengths: 441\n",
            "Longest sequence length: 7238\n",
            "Review with the longest sequence: Beware: You can't buy more glasses...  But it will work on a Mac. UPDATE: I changed my review from 3 stars to 1 because after 1.5 years of fairly light usage, this monitor no longer functions.  Now when it is turned on, it's own built-in logo and 'check cable' displays roll and flicker.  Connecting a computer (any input) and displaying an image results in the same problem.  At some point I'll take this apart and see if I can fix it but don't hold out much hope.  Perhaps if I used it more it would have failed during the 1 year warranty.<br /><br />This is a very long review, so let me bring an import issue up front.  This monitor comes with 1 pair of glasses and 1 pair of clip-ons, and as of the date of this review (early Fall 2011) you cannot buy more of these same glasses, at least not from any major retailer like Amazon, nor as a replacement part from LG.  When contacted about this, LG Customer Service has told me and other LG monitor owners to buy the replacement LG TV glasses instead.  But they are not compatible with this monitor.  More details about this below.<br /><br />* Summary:<br /><br />The LG D2342 is a competent 3D computer monitor that uses passive glasses technology to display stereographic images. With appropriately processed JPEG files, it is possible to display 3D still images on this monitor using a non-Windows computer (Mac, Linux, etc.) because specialized hardware driver software is not required. This monitor is also the perfect companion for use with the free StereoPhoto Maker application for editing and displaying 3D photographs that are encoded in virtually any common digital 3D photo format. It also gives the Fujifilm W1 & W3 camera owner a quick, convenient, and fun way to review and show off 3D photos and videos straight from the camera. Unfortunately 3D image quality is hobbled by being supplied with what are, at best, mediocre quality glasses. However even with the included glasses, this 3D monitor is usable and useful, and with better glasses, the potential image quality could be quite good.<br /><br />* Introduction<br /><br />The LG FLATRON D2342 CINEMA 3D MONITOR is a stereographic 23-inch class computer monitor with LED back-lighting. To enable the 3D effect, it uses passive (polarized) glasses rather than active (shutter) glasses. The pros and cons of these two different 3D viewing technologies has been fully explored by others although most often within the context of 3D TV sets rather than computer displays. This is because, initially at least, active 3D computer monitors and laptops have been more widely available than passive models. However what is rarely mentioned is that no special graphics card or hardware drivers are needed to view stereographic images on this passive 3D computer monitor. More on this later.<br /><br />I purchased this monitor specifically for the editing and display of stereographic photographs (captured with my Fujifilm W1 and W3 3D cameras) using my oldish 17 inch Apple MacBook Pro laptop. Because of this, my review will focus primarily on aspects of this monitor's performance within that context. Other common and popular uses for 3D computer monitors includes 3D gaming and watching 3D movies. Since I have no practical experience using this monitor with either, I'll apologize now for not discussing this monitor's specific strengths and weaknesses for such use. And finally, since I did not install the supplied TriDef software and drivers this review will be mute on that subject as well.<br /><br />* So What'cha Got in the Box?<br /><br />For documentation and software, this monitor comes with a 20 page owner's manual in PDF format on a CD, and a quick setup guide. A second CD containing TriDef 3D software and drivers for Microsoft Windows, and its companion quick installation guide, is provided as well. Unfortunately the manual does not go into much technical depth about the monitor's underlying technology or features.<br /><br />Also in the box are an analog D-SUB monitor cable, digital DVI-D monitor cable, power cord and, most importantly, the 3D glasses you'll need for seeing your stereographic images. Many retail sites selling this monitor say that it comes with only one pair of glasses. In point of fact a pair of conventional style glasses are supplied as well as a pair of clip-ons. The glasses come in a kit with the accessory number FPG-2000 which includes a soft drawstring bag for each pair of glasses and a microfiber cleaning cloth. (That accessory number is an important bit of information as we'll see later.) Not included is a 1.4 compliant HDMI cable which would be needed to connect the monitor to a 3D camera or 3D Blu-ray player.<br /><br />Besides the analog D-SUB (not tested here), DVI-D, and HDMI ports, the monitor also has a standard mini-stereo headphone jack. While the monitor itself does not have built-in speakers, it will output any audio received via the HDMI connection to this analog audio port. Virtually any set of self-powered external computer speakers, or a home entertainment system, could be attached to add sound capability to the monitor itself. (This feature is particularly important for Fujifilm W3 camera owners displaying video, since the camera's own speakers are muted when the mini-HDMI connector is attached to the camera.)<br /><br />The monitor panel itself has a matte finish surrounded by a shiny black narrow frame that is a fingerprint magnet. The model number and brand name on the frame are a very tastefully subdued gray. The monitor setup buttons have no labels at all. Pressing any button brings up an on-screen menu positioned over the buttons. A nice touch.<br /><br />When turned on, the round power button in the lower right is a brightly backlit blue. It looks 'cool' but is a bit distracting. The button annoyingly blinks when the monitor is in standby mode. (Both problems can be easily solved with a small bit of black tape!)<br /><br />* Some 3D Theory and Mechanics<br /><br />In this section we examine how the LG D2342 accomplishes its 3D magic. If you only care about how well the LG performs at displaying images, you may want to skip to the next section.<br /><br />A Digression... Taking two or more channels of information, combining them into a single signal that is then later decoded by the receiver back into discrete channels, is called \"multiplexing\". FM stereo radio is a common example of everyday use of this technique. Any stereographic display technique that combines the left and right images of a 3D pair into a single image is using multiplexing. 3D movies, 3D TVs (both active and passive), and auto-stereoscopic displays, found on some handheld devices (Fuji W3, Nintendo 3DS, 3D phones) all use the idea of multiplexing. Multiplexing introduces its own set of problems such as crosstalk between channels (in stereography this is seen as ghosting) and signal degradation. It is difficult to create a multiplexed system that works as well as discrete channels transmitted over the same medium.<br /><br />- A stereographic photograph requires a pair of left and right images that need to be transmitted somehow to the viewer's left and right eyes. Ideally the left eye should see none of the right image, and vice versa.<br /><br />- With active shutter glasses, the left and right images are rapidly alternated on the monitor display. The shutter glasses, which contain electronics, receives a timing signal from the display and in synchronization with the display turns the left glasses lens opaque when the right image is displayed, then turns the right glasses lens opaque when the left image is displayed. While each eye sees the entire corresponding image, for a very brief moment, the alternate eye sees nothing at all. For some people this can be perceived as a subtle flicker.<br /><br />- The LG D2342 takes a different approach. The image sent to the monitor's display is arranged in such a way that the every other horizontal scan line of the left image, is combined with alternate scan lines of the right image. Thus in the vertical dimension, half of the left image is combined with a corresponding half of the right to provide a full screen image. In the case of the LG D2342, this is a total of 1080 scan lines (540 from the left, and 540 from the right). The technical term for this approach is called \"interlaced\".<br /><br />- Covering the LG's LCD display panel is a special polarization filter which has narrow horizontal regions that precisely correspond to the row of pixels in each scan line of the display. The orientation of the polarization alternates with each line in such a way that, when the correct 3D polarized glasses are used, the left eye sees the left scan lines, and the right... Well by now you get the idea.<br />An important consequence of the interlaced method used in the LG monitor is that each eye is seeing only half of the vertical resolution of the display. For a 3D photographer interested in image quality, learning this will probably ring alarm bells. While this does have an impact on image quality, the effect may not be as bad as you might think. Read on.<br /><br />With the LG, how and when the interlacing of the left and right images happens depends upon the input selected. Using the HDMI input, the LG can understand 3D images transmitted in 3 different formats; side by side, top & bottom, and line interlaced. The LG converts the input, as necessary, to the required interlaced pattern. In contrast, when the computer inputs (analog or digital) are used, it is the computer's responsibility to perform the interlacing of the L/R images. Thus with HDMI input, the entire screen is used to display the 3D image. But under computer control, it is possible that only a portion of the screen, say an image window, is displayed in 3D while the remainder of the display remains in 2D.<br /><br />There is another consequence of the LG acting as a 'dumb' display when under computer control. Since the interlacing of the left and right images is not a technically difficult problem, it can be performed by the application. The operating system does not need to know about the special nature of the display, i.e. requiring special hardware device drivers. Only the application needs to be 'told' to use interlacing to render the 3D image. (Actually, if the image is correctly preprocessed, even the application doesn't need to know the image is 3D, so long as the image is precisely aligned on the display. More about this later.)<br /><br />* How's the View in the Flatlands?<br /><br />I purchased this monitor exclusively for the 3D feature, having no other compelling need for an external monitor on my MacBook. But for a lot of folks, this could well become their primary monitor for their desktop system, so basic 2D performance is important too. On that front, the D2342 appears to be a perfectly fine and adequate display. In 2D \"mode\" (i.e. not wearing the 3D glasses) the images on this monitor look no different than any other 23-inch full HD (1920 x 1080) widescreen display. Even with very close inspection, applications and 2D images displayed no visible artifacts caused by the special polarizing sheet applied to the surface of the LCD panel. In a side-by-side comparison of the LG to my MacBook's own display, the LG is every bit as bright with good contrast and colors. The older MacBook display has slightly better black levels than the LG, but in viewing a series of identical 2D images on both screens, the D2342 held its own with even a few images looking better on the LG than the Apple.<br /><br />This is not to say that the LG D2342 is the ultimate monitor for viewing photographic images. My 27 inch Apple Cinema display blows the socks off the LG, but that is hardly a fair comparison given the high cost and pixel density of the Apple. Let's just say the 2D image quality of the LG is comparable to other conventional monitors in roughly the same price range.<br /><br />Using a variety of LCD monitor test images, I found only one stuck pixel which in normal use I have yet to see. The LG provides built-in \"warm\", \"medium\" and \"cool\" temperature presets. The LG's \"warm\" looks closest to my MacBook's native 6507K setting and looks good to my eyes. The \"medium\" is a bit too cool and the \"cool\" is positively lavender! For the fussy, it is possible to set a custom color profile using RGB sliders. There is an adjustable brightness level but no contrast control. There is also a \"3D COLOR EFFECT\" which according to the manual is suppose to optimize the picture quality in 3D mode. I found that it made the screen brighter to the point of pretty consistently blowing out the image's highlights. The setting is probably an attempt to compensate for some darkening caused by the glasses, but I have yet to find it helpful in practice.<br /><br />Image quality is significantly degraded when looking at 2D content when wearing the supplied 3D glasses. There is an easy fix for this - take off the damn glasses! I mention this only because I've seen complaints about this in other reviews. It should be common sense that if you are not specifically viewing 3D content, it is silly to be wearing the 3D glasses. The 3D glasses will not make your Excel spreadsheet look any better. Trust me.<br /><br />* Instant Gratification - It's a Good Thing<br /><br />The following may be of interest primarily to owners of the FUJIFILM FINEPIX REAL 3D W3 digital camera. On the other hand, this information may inspire some to consider acquiring their own sample of this remarkable camera.<br /><br />The Fujifilm W3 comes equipped with a HDMI Mini port that supports the HDMI 1.4 standard required for transmitting 3D signals. This allows the camera to be used as a playback device when connected to most 3D TVs. The very first thing I did, after setting up the LG monitor, was to plug in my W3.<br /><br />It worked like a champ!<br /><br />A particular delight is one of the camera's built-in slide show features called \"3D FADE\". In that mode, all the current images in the camera are displayed as an automatic slide show. First the image is displayed in 2D, then there is a dissolve to the same image in 3D. Magical. If you want to impress your friends and family with your 3D photos, this is the way to do it. Only an automatic 3D \"Ken Burns effect\" would be more impressive. When manually advancing through your pictures, the camera also makes it easy to quickly toggle back and forth between 2D and 3D versions of any stored image. This is a great way to evaluate how much the 3D effect enhances the image (or not). While the camera allows the user to adjust the stereo window while playing back images on the camera's own display, this feature is unfortunately disabled when playing back through the HDMI port. Pity. The camera also does not send live images to the HDMI port, only stored images.<br /><br />There are two 3D monitor menu settings that are operable when using the monitor with the Fuji - switching the L/R images and turning off the 3D effect. For the W3 there is no need to swap the L/R setting, and using the camera's own 3D/2D button is much faster and considerably more convenient.<br /><br />Regrettably I don't currently own any other HDMI devices (3D or not), such as a Blu-ray disc player, to test with the LG.<br /><br />* The Good, the Bad, and the Ugly<br /><br />You've probably noticed by now that I really haven't said very much yet about the LG's 3D actual image quality. Well there's good news, and there's bad news, and there's some just plain annoying news.<br /><br />As far as the monitor itself goes, the 3D image quality is quite good. I was concerned about the effective vertical resolution being halved for each eye, but in practice I don't find it objectionable. While to my eyes there is a subjective 'harshness' in the 3D images compared to the 2D version, any quibbles I may have with this are vastly overwhelmed by the pleasure of finally seeing my 3D digital images at a size much larger than a very small postcard (my camera's own 3D display). This isn't to say that the underlying technology is without its own problems.<br /><br />Let's look in detail at some of the issues involved and their impact on image quality.<br /><br />* What's Your Angle?<br /><br />A characteristic shared by some 3D display technologies is the phenomenon of having a viewing 'sweet spot'. This is particularly true for auto-stereoscopic (glasses-free) technology and also happens to be true for the LG D2342 as well. The LG's horizontal viewing angle for 3D is reasonably wide. The vertical angle, not so much. In terms of horizontal coverage, two people sitting side by side should not have trouble viewing the LG, but there could be problems if there's a significant difference in their heights.<br /><br />I posted a video to You Tube titled \"LG D2342 3D monitor viewing angle demonstration\" to demonstrate this effect.<br /><br />When setting up the monitor, it is worth taking a few moments to carefully adjust it for the optimum viewing angle. Do not assume that facing the monitor panel squarely will automatically yield the best results. To adjust the monitor angle, try viewing a 3D image with strong contrast and depth. Or find the 'sweet spot' by using a simple polarization extinction test image like the one shown in the video.  Contact me for a link.<br /><br />* Do I Look Good in Stripes?<br /><br />One particular concern that some people may have with passive 3D LCD technology is the issue of having visible horizontal black lines in the image. This happens because each eye sees not only the corresponding scan line it is suppose to see, but also the alternate eye's image which is suppose to be rendered by the 3D glasses as a very dark gray line. This striation effect is easily seen when sitting close to the monitor, while looking at areas with uniform highlighting such as clear sky or a light colored painted surface. However for me, sitting back about 3 feet (1 meter) from the monitor effectively eliminates this effect. Even so, from time to time an image containing closely spaced lines, such as the siding on a house, will cause visible pattern interference. And the subtle harshness remains. To my eye it looks like an artificial sharpening effect has been applied to the image. I blame this on the fine black lines which, while not discernible at a distance, still have an impact on the overall perceived 'smoothness' of the image. Overall the LG's 3D image quality is good, but if you're expecting Kodachrome, you're going to be disappointed.<br /><br />This striation effect becomes an unexpected issue, however, when viewing mixed 2D/3D content - and changing your viewing distance does not solve the problem. When working on your 3D photos in StereoPhoto Maker (SPM), images can be viewed in 3D by using the application's interlaced display mode. In this mode, the photo within the SPM image window is correctly rendered for the LG display, while the rest of the application (menu text and controls) remain in 2D. The problem with this is that, with the glasses on, the small 2D text in the menus can be hard to read because of the horizontal striation caused by the glasses.<br /><br />Now you might think that simply adding the left half of the 2D image with the right half of the 2D image would result in a perfectly fine 2D image in your head. But the striations are clearly visible in the 2D content, making small text unreadable. My theory is that this caused by our old stereographic nemesis retinal rivalry. Sitting very close to the monitor while wearing the glasses, I examined the application's small menu text. Using only one eye at a time, it was easy to clearly see the fragments of the lettering, separated by the dark gray lines. But with both eyes open, the lettering refused to fuse. Instead I saw the alternate flickering of retinal rivalry that so familiar to experienced stereo photographers.<br /><br />A Digression... One solution to this particular problem would be implementing a two-monitor feature in SPM. The image controls and menus of SPM would be displayed on the conventional 2D display, while the image being viewed and adjusted, would be displayed in the second, 3D monitor. Separating the controls from the working image, using two or more monitors, is a strategy that is sometimes used in professional engineering CAD/CAM applications. It would be a nice wish list item for a future SPM enhancement, but realistically it probably isn't a common enough need to justify the work that would be involved.<br /><br />A more practical second solution is well within reach of a typical hobbyist. Simply modify a pair of 3D glasses to work like bifocals. By removing either the top or bottom half of each lens, the operator simply looks over (or under) the lens to observe the 2D content clearly. (This is similar to the modified glasses that some 3D projectionists use for quickly assessing the alignment of 3D images in order to make fine alignments.)<br /><br />How much impact all these issues have on the final image quality is unfortunately very subjective. As with so many things, personal preference plays a big role. What can be a deal breaker for one person will hardly be noticed by another. With respect to the issues discussed so far, if I could own only one 3D display for showing my photographs, then this monitor would not be it. But while there are some real image quality issues with this monitor, for me they are easy to overlook given the sheer utility of this monitor for evaluating and editing 3D images. For me this monitor is a trusty pickup truck, not a luxury sedan and that's how I plan to use it.<br /><br />* For a Few Dollars More...<br /><br />So we've covered the good and the bad. Now let's talk about the ugly.<br /><br />Both of the conventional and clip-in 3D glasses that came with my LG D2342 are, how should I say this... crap! At first I thought it was me. The first time I used the monitor/glasses, I found myself rubbing my eyes because I would see isolated blurriness, as if something was in my eye. I quickly realized it was not my eyes, but the glasses. My first instinct was to assume the glasses were smudged, but no amount of cleaning solved the problem. Casually holding the glasses up to the light, they looked fine, but when carefully looking at any detailed image, while moving the glasses, there were definitely optical anomalies observed in the lenses.<br /><br />Upon discovering this I immediately tried the clip-on glasses, but found they too were similarly flawed. uploaded a video to YouTube titled \"LG 3D TV glasses verses LG 3D monitor glasses\" that attempts to illustrate the problem.<br /><br />OK, let's ignore the crappy glasses for the moment. One of the selling points of passive 3D is that additional glasses are... Well here, let LG explain:<br /><br />  \"It's easy to jump right in with one pair of lightweight 3D glasses and<br />  one set of clip-on glasses already included**. Plus, they're easy to<br />  replace, lightweight and give you a high quality 3D picture.<br /><br />  ** Additional 3D glasses are sold separately.\"<br /><br />Sounds good! Sign me up! Just one problem. There was no information included with the monitor, that I could find, about how to buy more glasses. Searching for the glasses model number (FPG-2000) that was printed on the glasses kit box, I was unable find any major retailers listing these glasses for sale. I contacted LG Customer Services for help and their recommendation to me (and others) was to purchase the LG AG-F200 which are the glasses sold for the LG Cinema 3D TVs which also use passive technology. These glasses are readily available at a reasonable cost and as it turns out, are optically superior to the monitor glasses (i.e. no distortion).<br /><br />Too bad they are not fully compatible with the monitor.<br /><br />The history of 3D polarized glasses is a very long one. This is not new technology folks. To work, the type of polarization used (linear or circular) and the orientation of the polarization (horizontal, vertical, 45 degrees, etc.) of the glasses must match the standard used by the image source. As you might guess, there have been many different standards over the years, and it turns out, the standard that LG uses for their 3D LCD TVs just happens to be different than the one they use for their 3D LCD monitors.<br /><br />In practice using the LG 3D TV glasses with the LG 3D monitor works... sort of. Many images with high contrast suffer from mild to severe purple ghosting.<br />At the time this was written, there are no OEM LG monitor glasses available for sale from any major retailer. So what are the current options for owners of the D2342?<br /><br />- Use the glasses that came with the monitor - just don't lose them! - and put up with the poor optical quality.<br /><br />- Buy and use the LG's TV version of the glasses, which are optically distortion-free but suffer from increased ghosting.<br /><br />- Hack the TV version of the glasses to make them compatible with the monitor. The resulting glasses will be pretty ugly and fragile since the rotated lens material will need to be cut and the resulting lens will no longer fill the eyeglass frame. (I've already tried this and was not happy with the results.)<br /><br />- Acquire a pair of polarized glasses designed for the Zalman 3D passive monitors. It has been reported (but not confirmed by the author) that these glasses are compatible with the LG D2342.  I've seen them for sale for $20-$35 from various on-line vendors.<br /><br />The last option is probably the most reasonable (assuming it works). If I get a pair I'll report about it here. In the meantime it's hard to understand if the problem with the supplied glasses is because of a manufacturing error, or due to penny pinching to meet a desired price point for the monitor package. But what possible excuse is there for not making it easy to buy additional pairs of glasses?<br /><br />* Conclusion<br /><br />Despite the poor quality of the supplied glasses, by itself the LG Flatron D2342 Cinema 3D monitor is worth the money for what it can do and for its competent, if not stellar, 3D image quality. Is the 3D viewing experience of this monitor as good as the best of the current crop of high definition 3D TVs? No. But then this monitor costs a fraction of even the cheapest 3D TV currently available. What this monitor does do is show me all the detail I need to see, both in terms of image quality and 3D depth, to more effectively edit and tweak my stereoscopic photos. And the image quality is certainly good enough for occasionally sharing a few favorite images with friends and family without having to make apologies. So this monitor is now the center of my 3D photo editing workflow, and in a pinch it can be used as a 3D picture frame for showing a short slide show or 3D video to one or two people. For me, my next goal is to get a high definition 3D TV set with excellent image quality for comfortably displaying 3D slide shows and 3D videos for small groups of people.<br /><br />* Appendix<br /><br />+ Notes for the Macintosh User<br /><br />My favorite 3D photo editing software by far is Masuji Suto's powerful StereoPhoto Maker (SPM). Unfortunately for me, a happy Apple Macintosh user, SPM only runs under Microsoft's family of Windows operating systems. It is possible, however, with a little bit of software magic to run many Windows-only programs, like SPM, on Macs powered with an Intel CPU.<br /><br />The solution I picked is running VMware Fusion with a virtualized clone of my long departed Dell laptop's XP operating system. While the performance of SPM is not bad with this configuration, having to boot up XP every time I might want to look at a few 3D pictures on my LG 3D monitor is not very convenient. While not a perfect solution, 3D images saved in precisely sized interlaced format can be viewed as a slide show on the D2342 using Preview (Mac OS X's default image/PDF viewer). It should also be possible to save and viewed using iPhoto although I have not tried this as of yet. The key is that the interlaced images must be saved in a precisely proscribed format, discussed below.<br /><br />+ Creating Interlaced JPEG Photos Using SPM<br /><br />Right now, the only way I know how to create an interlaced 3D JPEG image is using StereoPhoto Maker (SPM). Unfortunately, for some of us at least, SPM only runs on Microsoft Windows. So this information is useful only if, by hook or by crook, you can process your 3D photo files using SPM on some Windows machine, real or virtual. But once the images are saved in the appropriate interlaced format, you should be able to display them using any computer you can connect to the LG D2342, using software that should already be installed on your machine. The key is that the image must be sized so it is exactly 1080 pixels tall.<br /><br />Here's a step-by-step guide for saving such images using version 4.30 of SPM. As with any feature rich program, there's always more than one way to do a task. If you have a better or more concise process to accomplish the end goal, please drop us a line.<br /><br />1) Open a stereo image using either of:<br /><br />  File->Open Stereo Image...<br />  File->Open Left/Right Images...<br /><br />2) Adjust the stereo window and perhaps normalize the color between the two images.<br /><br />  Adjust->Auto alignment<br />  Adjust->Auto Color Adjustment<br /><br />3) Crop the image if desired. This step is option. Select the Free Cropping Option...<br />and set the Aspect-ratio to 1920x1080 which are the dimensions of the LG D2342. This is also the dimensions of a full HD TV as well.<br /><br />However we are not setting the image size by doing this, just the aspect ratio. Now by selecting or clearing the keep Aspect-ratio checkbox, you can constrain your crop, or not, to the proportions of the monitor. If you wish to have your image fill the entire width of the monitor, turn this option on.<br />Crop by moving to the upper left corner of your desired area and clicking to establish the corner and drag to the desired lower right corner. Click within the image to complete the crop.<br /><br />4) Then redo:<br /><br />  Adjust->Auto alignment<br /><br />to reset your stereo window.<br /><br />5) Resize the image by clicking on the resize button. In the dialog box that appears, make sure the Keep Aspect-ratio button is selected.<br /><br />In the Y field enter 1080 The X value will automatically change as required.<br />If you are not already viewing the image in Interlaced mode, turn it on now by pressing the Interlace button.<br /><br />6) Now you can do File->Save Stereo Image... to save an interlaced version of your image.<br /><br />7) Lather, rinse, repeat...<br /><br />That's all folks!<br /><br />Copyright © 2011 Bill.Costa@alumni.unh.edu<br /><br />Permission is granted to copy, distribute and/or modify this document under the terms of the GNU Free Documentation License<br /><br />Date: 2011-10-05 21:09:33 EDT\n"
          ]
        }
      ]
    },
    {
      "cell_type": "code",
      "source": [
        "def tokenize(example):\n",
        "  return tokenizer(example['review'], truncation=True, padding=\"max_length\", max_length=256)"
      ],
      "metadata": {
        "id": "i0g4lnAk57UV"
      },
      "execution_count": null,
      "outputs": []
    },
    {
      "cell_type": "code",
      "source": [
        "tokenized_train = train_dataset.map(tokenize, batched=True)\n",
        "tokenized_val = val_dataset.map(tokenize, batched=True)\n",
        "tokenized_test = test_dataset.map(tokenize, batched=True)"
      ],
      "metadata": {
        "colab": {
          "base_uri": "https://localhost:8080/",
          "height": 113,
          "referenced_widgets": [
            "31ec71b2e1234e519b6a25c43f1d1fa4",
            "a47ec37ba9434ccfae41742c1f096b2e",
            "83bb0f85cfdf4fc49421c4f63d80d599",
            "02705c4d5ac24dec864b9a7ff7664b6f",
            "633892ed1fad467caab1ff09d878b071",
            "86b8c154c00e4da1a0be994864facfac",
            "d7c4fb2b93644a6a85753c6f4f2b9314",
            "fa127ac6a2d0412f81f522b4ebb66864",
            "bcd52945ea254c1c90c20a9cbc9f3a08",
            "2e8be176b2bf43ccbca1b905cefdc269",
            "e61198d75ec54d40833067bd40128917",
            "5094ad5986d44328b54a00872e8b1d1d",
            "8f8e9672970245028acbf3b141c27f1d",
            "8344dc351ed940a090f7ba4b9632baaa",
            "c0bb4c86779242ce902ceaf63eaa22bf",
            "674f6b57937142f5afbf8d1fa4500dba",
            "38ab4fddc2db42a38a5565adea9e6026",
            "9e1e015b9562494caedb70dc4207c9a6",
            "83cceea75bc041ceb6d290826eeef1ba",
            "e5bd764825d149ba946a9dfd54880591",
            "c05cdc6320604e808568c76a2d2fb46c",
            "d21dde5e4c994d6fa465ed90e7359f51",
            "ba31742fcc3c42a28b90656f81af4584",
            "5000b9dd45434efd996774e443644b43",
            "733baf37e40a44a7b071e9fd206a3a95",
            "9ec586abdd3248e89b668f3a130fe33c",
            "285f1021f79b4a98b22916cb86eae50d",
            "5722146eea69427a98e7d60dffd8f9f8",
            "be03f3c7da4843cbafb792149cdfef41",
            "c60e29ce2f4d4cf69f769d038b2ebeb4",
            "c0f2fb63b7a14109b8b3576c5cea054e",
            "8da59af932544770a36bfd62f0d4b354",
            "8bca4a1b1a574b94a1310823d816fd62"
          ]
        },
        "id": "wbTOdjYa6h2z",
        "outputId": "4422b4f4-2217-449a-a44a-da6e4e0d4868"
      },
      "execution_count": null,
      "outputs": [
        {
          "output_type": "display_data",
          "data": {
            "text/plain": [
              "Map:   0%|          | 0/2100000 [00:00<?, ? examples/s]"
            ],
            "application/vnd.jupyter.widget-view+json": {
              "version_major": 2,
              "version_minor": 0,
              "model_id": "31ec71b2e1234e519b6a25c43f1d1fa4"
            }
          },
          "metadata": {}
        },
        {
          "output_type": "display_data",
          "data": {
            "text/plain": [
              "Map:   0%|          | 0/450000 [00:00<?, ? examples/s]"
            ],
            "application/vnd.jupyter.widget-view+json": {
              "version_major": 2,
              "version_minor": 0,
              "model_id": "5094ad5986d44328b54a00872e8b1d1d"
            }
          },
          "metadata": {}
        },
        {
          "output_type": "display_data",
          "data": {
            "text/plain": [
              "Map:   0%|          | 0/450000 [00:00<?, ? examples/s]"
            ],
            "application/vnd.jupyter.widget-view+json": {
              "version_major": 2,
              "version_minor": 0,
              "model_id": "ba31742fcc3c42a28b90656f81af4584"
            }
          },
          "metadata": {}
        }
      ]
    },
    {
      "cell_type": "code",
      "execution_count": null,
      "metadata": {
        "id": "GRPwmyQoseVX"
      },
      "outputs": [],
      "source": [
        "tokenized_train = tokenized_train.rename_column(\"sentiment\", \"labels\")\n",
        "tokenized_val = tokenized_val.rename_column(\"sentiment\", \"labels\")\n",
        "tokenized_test = tokenized_test.rename_column(\"sentiment\", \"labels\")"
      ]
    },
    {
      "cell_type": "code",
      "source": [
        "# Viewing the default configuration\n",
        "config = AutoConfig.from_pretrained(model_name)\n",
        "print(config)"
      ],
      "metadata": {
        "colab": {
          "base_uri": "https://localhost:8080/"
        },
        "id": "9FT5K2yvzs0-",
        "outputId": "ccba0849-7d04-49e5-d8cb-c90ccb7d78e7"
      },
      "execution_count": null,
      "outputs": [
        {
          "output_type": "stream",
          "name": "stdout",
          "text": [
            "DebertaV2Config {\n",
            "  \"_name_or_path\": \"microsoft/deberta-v3-base\",\n",
            "  \"attention_probs_dropout_prob\": 0.1,\n",
            "  \"hidden_act\": \"gelu\",\n",
            "  \"hidden_dropout_prob\": 0.1,\n",
            "  \"hidden_size\": 768,\n",
            "  \"initializer_range\": 0.02,\n",
            "  \"intermediate_size\": 3072,\n",
            "  \"layer_norm_eps\": 1e-07,\n",
            "  \"legacy\": true,\n",
            "  \"max_position_embeddings\": 512,\n",
            "  \"max_relative_positions\": -1,\n",
            "  \"model_type\": \"deberta-v2\",\n",
            "  \"norm_rel_ebd\": \"layer_norm\",\n",
            "  \"num_attention_heads\": 12,\n",
            "  \"num_hidden_layers\": 12,\n",
            "  \"pad_token_id\": 0,\n",
            "  \"pooler_dropout\": 0,\n",
            "  \"pooler_hidden_act\": \"gelu\",\n",
            "  \"pooler_hidden_size\": 768,\n",
            "  \"pos_att_type\": [\n",
            "    \"p2c\",\n",
            "    \"c2p\"\n",
            "  ],\n",
            "  \"position_biased_input\": false,\n",
            "  \"position_buckets\": 256,\n",
            "  \"relative_attention\": true,\n",
            "  \"share_att_key\": true,\n",
            "  \"transformers_version\": \"4.48.3\",\n",
            "  \"type_vocab_size\": 0,\n",
            "  \"vocab_size\": 128100\n",
            "}\n",
            "\n"
          ]
        }
      ]
    },
    {
      "cell_type": "code",
      "source": [
        "model = DebertaV2ForSequenceClassification.from_pretrained(model_name, hidden_dropout_prob=0.1, attention_probs_dropout_prob=0.1, num_labels=3)"
      ],
      "metadata": {
        "colab": {
          "base_uri": "https://localhost:8080/",
          "height": 104,
          "referenced_widgets": [
            "491d4859988e40858c04f6be17984e0a",
            "5b215574df814e47b960b62a1971ec5a",
            "9bdf3cc2b9814f4f992e32e6a6f9a6bb",
            "bdc80e368eea4be482ce7269405bda0c",
            "0b8fb7737b894e019c1d99353b3a2dd1",
            "fe35381ca6c3444aa45a8da7a6977a96",
            "3e7152a15c064e26b7b1f652b3b1695d",
            "13198f15f60f471e84cf9e153d18f88c",
            "7bf47901e827414d8b760b8c51030306",
            "77a72609523047b0b1347ea47ada9423",
            "70f70d0895ba40cb9c9faf7bb4d7eb8b"
          ]
        },
        "id": "8mJ7cU8yf6OW",
        "outputId": "c212a8fc-ec97-4232-b8f0-ca367ce97457"
      },
      "execution_count": null,
      "outputs": [
        {
          "output_type": "display_data",
          "data": {
            "text/plain": [
              "pytorch_model.bin:   0%|          | 0.00/371M [00:00<?, ?B/s]"
            ],
            "application/vnd.jupyter.widget-view+json": {
              "version_major": 2,
              "version_minor": 0,
              "model_id": "491d4859988e40858c04f6be17984e0a"
            }
          },
          "metadata": {}
        },
        {
          "output_type": "stream",
          "name": "stderr",
          "text": [
            "Some weights of DebertaV2ForSequenceClassification were not initialized from the model checkpoint at microsoft/deberta-v3-base and are newly initialized: ['classifier.bias', 'classifier.weight', 'pooler.dense.bias', 'pooler.dense.weight']\n",
            "You should probably TRAIN this model on a down-stream task to be able to use it for predictions and inference.\n"
          ]
        }
      ]
    },
    {
      "cell_type": "markdown",
      "source": [
        "# Passing the model to GPU"
      ],
      "metadata": {
        "id": "_4GXWa3npv1J"
      }
    },
    {
      "cell_type": "code",
      "execution_count": null,
      "metadata": {
        "colab": {
          "base_uri": "https://localhost:8080/"
        },
        "id": "pJCgoq7k6KaE",
        "outputId": "5ceef9e6-2e0f-4f9f-c457-e27ad1a86700"
      },
      "outputs": [
        {
          "output_type": "stream",
          "name": "stdout",
          "text": [
            "Mon Feb 17 21:25:14 2025       \n",
            "+-----------------------------------------------------------------------------------------+\n",
            "| NVIDIA-SMI 550.54.15              Driver Version: 550.54.15      CUDA Version: 12.4     |\n",
            "|-----------------------------------------+------------------------+----------------------+\n",
            "| GPU  Name                 Persistence-M | Bus-Id          Disp.A | Volatile Uncorr. ECC |\n",
            "| Fan  Temp   Perf          Pwr:Usage/Cap |           Memory-Usage | GPU-Util  Compute M. |\n",
            "|                                         |                        |               MIG M. |\n",
            "|=========================================+========================+======================|\n",
            "|   0  NVIDIA A100-SXM4-40GB          Off |   00000000:00:04.0 Off |                    0 |\n",
            "| N/A   31C    P0             48W /  400W |       0MiB /  40960MiB |      0%      Default |\n",
            "|                                         |                        |             Disabled |\n",
            "+-----------------------------------------+------------------------+----------------------+\n",
            "                                                                                         \n",
            "+-----------------------------------------------------------------------------------------+\n",
            "| Processes:                                                                              |\n",
            "|  GPU   GI   CI        PID   Type   Process name                              GPU Memory |\n",
            "|        ID   ID                                                               Usage      |\n",
            "|=========================================================================================|\n",
            "|  No running processes found                                                             |\n",
            "+-----------------------------------------------------------------------------------------+\n"
          ]
        }
      ],
      "source": [
        "!nvidia-smi"
      ]
    },
    {
      "cell_type": "code",
      "execution_count": null,
      "metadata": {
        "id": "exU9a5zPyBTi"
      },
      "outputs": [],
      "source": [
        "os.environ['CUDA_VISIBLE_DEVICES'] = '0'"
      ]
    },
    {
      "cell_type": "code",
      "execution_count": null,
      "metadata": {
        "colab": {
          "base_uri": "https://localhost:8080/"
        },
        "id": "-qkB0V_P7nIS",
        "outputId": "301d94df-3ec1-4ba5-ec1f-37926e0fffc3"
      },
      "outputs": [
        {
          "output_type": "stream",
          "name": "stdout",
          "text": [
            "2.5.1+cu124\n",
            "12.4\n"
          ]
        }
      ],
      "source": [
        "os.environ.get('CUDA_VISIBLE_DEVICES')\n",
        "print(torch.__version__)\n",
        "print(torch.version.cuda)"
      ]
    },
    {
      "cell_type": "code",
      "execution_count": null,
      "metadata": {
        "colab": {
          "base_uri": "https://localhost:8080/",
          "height": 101,
          "referenced_widgets": [
            "47abc40df6ca413b9f7046f1b3391d38",
            "e075f80dd3514913b9a7865c00e72a79",
            "b41ad01db30b4bcdb426ae808955e814",
            "f99231f18fa64a59a9742f85729c1238",
            "b1f11755c8c5458fa99effc5f7c2cdf4",
            "d4f10bbce8d5472699895ee43754aab0",
            "ce1ea2bc600045f2a3ba9c6e2b27d742",
            "2d59318b87ec4931aa3c03d40fd2a936",
            "2f6480ac17b543c3bb364ebf3ce7c189",
            "678ae8204b9b4d5aa97ffea899a742a1",
            "79ee96104d03474ba3182db46ef893fe"
          ]
        },
        "id": "5zuJIzok7c80",
        "outputId": "c9208217-5a26-4109-b2fe-5556dbd9cec5"
      },
      "outputs": [
        {
          "output_type": "display_data",
          "data": {
            "text/plain": [
              "model.safetensors:   0%|          | 0.00/371M [00:00<?, ?B/s]"
            ],
            "application/vnd.jupyter.widget-view+json": {
              "version_major": 2,
              "version_minor": 0,
              "model_id": "47abc40df6ca413b9f7046f1b3391d38"
            }
          },
          "metadata": {}
        },
        {
          "output_type": "stream",
          "name": "stdout",
          "text": [
            "CUDA available: True\n",
            "CUDA device count: 1\n",
            "Current CUDA device: 0\n"
          ]
        }
      ],
      "source": [
        "print(f\"CUDA available: {torch.cuda.is_available()}\")\n",
        "if torch.cuda.is_available():\n",
        "    print(f\"CUDA device count: {torch.cuda.device_count()}\")\n",
        "    print(f\"Current CUDA device: {torch.cuda.current_device()}\")"
      ]
    },
    {
      "cell_type": "code",
      "execution_count": null,
      "metadata": {
        "id": "4nC2Xgn458i9"
      },
      "outputs": [],
      "source": [
        "def clear_gpu_memory():\n",
        "    '''\n",
        "    Free GPU memory\n",
        "    '''\n",
        "    # Trigger Python garbage collection\n",
        "    gc.collect()\n",
        "    # Clear PyTorch's CUDA cache\n",
        "    torch.cuda.empty_cache()\n",
        "\n",
        "clear_gpu_memory()"
      ]
    },
    {
      "cell_type": "markdown",
      "source": [
        "# Training Model"
      ],
      "metadata": {
        "id": "dlHi2LBvqDBP"
      }
    },
    {
      "cell_type": "code",
      "execution_count": null,
      "metadata": {
        "id": "mJE8lPxg2N9R"
      },
      "outputs": [],
      "source": [
        "def compute_metrics(pred):\n",
        "    labels = pred.label_ids\n",
        "    preds = pred.predictions.argmax(-1)\n",
        "\n",
        "    precision, recall, f1, _ = precision_recall_fscore_support(labels, preds, average='weighted')\n",
        "    acc = accuracy_score(labels, preds)\n",
        "    mcc = matthews_corrcoef(labels, preds)\n",
        "\n",
        "    return {\n",
        "        'accuracy': acc,\n",
        "        'f1': f1,\n",
        "        'precision': precision,\n",
        "        'recall': recall,\n",
        "        'mcc': mcc,\n",
        "    }"
      ]
    },
    {
      "cell_type": "code",
      "execution_count": null,
      "metadata": {
        "id": "w6WL_iJiqbBJ"
      },
      "outputs": [],
      "source": [
        "training_args = TrainingArguments(\n",
        "    output_dir='./results',\n",
        "    num_train_epochs=4,\n",
        "    per_device_train_batch_size=128,\n",
        "    per_device_eval_batch_size=256,\n",
        "    learning_rate= 2e-5,\n",
        "    weight_decay=0.01,\n",
        "    logging_dir='./logs',\n",
        "    logging_steps=10,\n",
        "    eval_strategy='epoch',\n",
        "    save_strategy='epoch',\n",
        "    load_best_model_at_end=True,\n",
        "    metric_for_best_model='eval_loss',\n",
        "    label_smoothing_factor=0.1,\n",
        "    lr_scheduler_type='cosine',\n",
        "    adam_beta1=0.9,\n",
        "    adam_beta2=0.98,\n",
        "    warmup_ratio=0.1,\n",
        "    run_name=\"model65_finetuning\",\n",
        "    report_to='wandb',\n",
        "    fp16=True\n",
        ")\n",
        "\n",
        "trainer = Trainer(\n",
        "    model=model,\n",
        "    args=training_args,\n",
        "    train_dataset=tokenized_train,\n",
        "    eval_dataset=tokenized_val,\n",
        "    compute_metrics=compute_metrics,\n",
        "    callbacks=[EarlyStoppingCallback(early_stopping_patience=2, early_stopping_threshold=0.01)] # Stop after 2 consecutive epochs without improvement\n",
        ")"
      ]
    },
    {
      "cell_type": "code",
      "source": [
        "# Training the model\n",
        "trainer.train()"
      ],
      "metadata": {
        "id": "6IZab48S6jhb",
        "colab": {
          "base_uri": "https://localhost:8080/",
          "height": 330
        },
        "outputId": "668b9026-bc45-4b90-d2ba-cd03b0490dd3"
      },
      "execution_count": null,
      "outputs": [
        {
          "data": {
            "text/html": [
              "\n",
              "    <div>\n",
              "      \n",
              "      <progress value='32815' max='65628' style='width:300px; height:20px; vertical-align: middle;'></progress>\n",
              "      [32815/65628 4:31:33 < 4:31:33, 2.01 it/s, Epoch 2/4]\n",
              "    </div>\n",
              "    <table border=\"1\" class=\"dataframe\">\n",
              "  <thead>\n",
              " <tr style=\"text-align: left;\">\n",
              "      <th>Epoch</th>\n",
              "      <th>Training Loss</th>\n",
              "      <th>Validation Loss</th>\n",
              "      <th>Accuracy</th>\n",
              "      <th>F1</th>\n",
              "      <th>Precision</th>\n",
              "      <th>Recall</th>\n",
              "      <th>Mcc</th>\n",
              "    </tr>\n",
              "  </thead>\n",
              "  <tbody>\n",
              "    <tr>\n",
              "      <td>1</td>\n",
              "      <td>0.474500</td>\n",
              "      <td>0.418758</td>\n",
              "      <td>0.927549</td>\n",
              "      <td>0.921492</td>\n",
              "      <td>0.919834</td>\n",
              "      <td>0.927549</td>\n",
              "      <td>0.805438</td>\n",
              "    </tr>\n",
              "  </tbody>\n",
              "</table><p>\n",
              "    <div>\n",
              "      \n",
              "      <progress value='745' max='1758' style='width:300px; height:20px; vertical-align: middle;'></progress>\n",
              "      [ 745/1758 04:52 < 06:37, 2.55 it/s]\n",
              "    </div>\n",
              "    "
            ],
            "text/plain": [
              "<IPython.core.display.HTML object>"
            ]
          },
          "metadata": {},
          "output_type": "display_data"
        },
        {
          "output_type": "display_data",
          "data": {
            "text/plain": [
              "<IPython.core.display.HTML object>"
            ],
            "text/html": [
              "\n",
              "    <div>\n",
              "      \n",
              "      <progress value='49221' max='65628' style='width:300px; height:20px; vertical-align: middle;'></progress>\n",
              "      [49221/65628 7:04:46 < 2:21:35, 1.93 it/s, Epoch 3/4]\n",
              "    </div>\n",
              "    <table border=\"1\" class=\"dataframe\">\n",
              "  <thead>\n",
              " <tr style=\"text-align: left;\">\n",
              "      <th>Epoch</th>\n",
              "      <th>Training Loss</th>\n",
              "      <th>Validation Loss</th>\n",
              "      <th>Accuracy</th>\n",
              "      <th>F1</th>\n",
              "      <th>Precision</th>\n",
              "      <th>Recall</th>\n",
              "      <th>Mcc</th>\n",
              "    </tr>\n",
              "  </thead>\n",
              "  <tbody>\n",
              "    <tr>\n",
              "      <td>1</td>\n",
              "      <td>0.474500</td>\n",
              "      <td>0.418758</td>\n",
              "      <td>0.927549</td>\n",
              "      <td>0.921492</td>\n",
              "      <td>0.919834</td>\n",
              "      <td>0.927549</td>\n",
              "      <td>0.805438</td>\n",
              "    </tr>\n",
              "    <tr>\n",
              "      <td>2</td>\n",
              "      <td>0.464300</td>\n",
              "      <td>0.418028</td>\n",
              "      <td>0.928516</td>\n",
              "      <td>0.921876</td>\n",
              "      <td>0.921609</td>\n",
              "      <td>0.928516</td>\n",
              "      <td>0.809741</td>\n",
              "    </tr>\n",
              "    <tr>\n",
              "      <td>3</td>\n",
              "      <td>0.462800</td>\n",
              "      <td>0.418183</td>\n",
              "      <td>0.928791</td>\n",
              "      <td>0.924095</td>\n",
              "      <td>0.922364</td>\n",
              "      <td>0.928791</td>\n",
              "      <td>0.810280</td>\n",
              "    </tr>\n",
              "  </tbody>\n",
              "</table><p>"
            ]
          },
          "metadata": {}
        },
        {
          "output_type": "execute_result",
          "data": {
            "text/plain": [
              "TrainOutput(global_step=49221, training_loss=0.4769329642831004, metrics={'train_runtime': 25487.4358, 'train_samples_per_second': 329.574, 'train_steps_per_second': 2.575, 'total_flos': 8.28822129408e+17, 'train_loss': 0.4769329642831004, 'epoch': 3.0})"
            ]
          },
          "metadata": {},
          "execution_count": 32
        }
      ]
    },
    {
      "cell_type": "code",
      "source": [
        "# Evaluating the model\n",
        "results = trainer.evaluate(eval_dataset=tokenized_test)\n",
        "print(results)"
      ],
      "metadata": {
        "id": "okYNjx2VpVNj",
        "colab": {
          "base_uri": "https://localhost:8080/",
          "height": 74
        },
        "outputId": "7737f556-3b45-49b4-c4f8-2b00c35b87af"
      },
      "execution_count": null,
      "outputs": [
        {
          "output_type": "display_data",
          "data": {
            "text/plain": [
              "<IPython.core.display.HTML object>"
            ],
            "text/html": [
              "\n",
              "    <div>\n",
              "      \n",
              "      <progress value='1758' max='1758' style='width:300px; height:20px; vertical-align: middle;'></progress>\n",
              "      [1758/1758 11:30]\n",
              "    </div>\n",
              "    "
            ]
          },
          "metadata": {}
        },
        {
          "output_type": "stream",
          "name": "stdout",
          "text": [
            "{'eval_loss': 0.41716432571411133, 'eval_accuracy': 0.9284644444444444, 'eval_f1': 0.9217655884874845, 'eval_precision': 0.9214808420332447, 'eval_recall': 0.9284644444444444, 'eval_mcc': 0.8098346383649502, 'eval_runtime': 690.9323, 'eval_samples_per_second': 651.294, 'eval_steps_per_second': 2.544, 'epoch': 3.0}\n"
          ]
        }
      ]
    },
    {
      "cell_type": "code",
      "source": [
        "# Extract log history from the trainer\n",
        "logs = trainer.state.log_history\n",
        "\n",
        "# Separate training and validation losses\n",
        "train_losses = [entry[\"loss\"] for entry in logs if \"loss\" in entry]\n",
        "eval_losses = [entry[\"eval_loss\"] for entry in logs if \"eval_loss\" in entry]\n",
        "steps = [entry[\"step\"] for entry in logs if \"loss\" in entry]  # Steps corresponding to training losses\n",
        "eval_steps = [entry[\"step\"] for entry in logs if \"eval_loss\" in entry]  # Steps for eval losses\n",
        "\n",
        "# Plot the losses\n",
        "plt.figure(figsize=(10, 6))\n",
        "plt.plot(steps, train_losses, label=\"Training Loss\", marker=\"o\")\n",
        "plt.plot(eval_steps, eval_losses, label=\"Validation Loss\", marker=\"x\")\n",
        "plt.xlabel(\"Training Steps\")\n",
        "plt.ylabel(\"Loss\")\n",
        "plt.title(\"Training and Validation Loss\")\n",
        "plt.legend()\n",
        "plt.grid()\n",
        "plt.show()"
      ],
      "metadata": {
        "colab": {
          "base_uri": "https://localhost:8080/",
          "height": 564
        },
        "id": "VyBJ8UAVaxss",
        "outputId": "eec0b48b-592e-4bc6-fd26-4bbd8a44c26a"
      },
      "execution_count": null,
      "outputs": [
        {
          "output_type": "display_data",
          "data": {
            "text/plain": [
              "<Figure size 1000x600 with 1 Axes>"
            ],
            "image/png": "[encoded data removed]"
          },
          "metadata": {}
        }
      ]
    },
    {
      "cell_type": "code",
      "source": [
        "# Convert logs to DataFrame\n",
        "df = pd.DataFrame(logs)\n",
        "\n",
        "# Filter for loss\n",
        "df_loss = df[df['loss'].notna()]\n",
        "\n",
        "# Plot training loss\n",
        "plt.plot(df_loss['step'], df_loss['loss'], label='Training Loss')\n",
        "plt.xlabel('Training Steps')\n",
        "plt.ylabel('Loss')\n",
        "plt.title('Training Loss')\n",
        "plt.legend()\n",
        "plt.show()\n",
        "\n",
        "# Plot validation loss\n",
        "df_eval = df[df['eval_loss'].notna()]\n",
        "plt.plot(df_eval['step'], df_eval['eval_loss'], label='Validation Loss', color='orange')\n",
        "plt.xlabel('Training Steps')\n",
        "plt.ylabel('Loss')\n",
        "plt.title('Validation Loss')\n",
        "plt.legend()\n",
        "plt.show()"
      ],
      "metadata": {
        "id": "fWDctlLQTOPJ",
        "outputId": "e5443e1d-1777-453f-f5ae-da3f95c1f489",
        "colab": {
          "base_uri": "https://localhost:8080/",
          "height": 927
        }
      },
      "execution_count": null,
      "outputs": [
        {
          "output_type": "display_data",
          "data": {
            "text/plain": [
              "<Figure size 640x480 with 1 Axes>"
            ],
            "image/png": "[encoded data removed]"
          },
          "metadata": {}
        },
        {
          "output_type": "display_data",
          "data": {
            "text/plain": [
              "<Figure size 640x480 with 1 Axes>"
            ],
            "image/png": "[encoded data removed]"
          },
          "metadata": {}
        }
      ]
    },
    {
      "cell_type": "markdown",
      "source": [
        "# Saving the model"
      ],
      "metadata": {
        "id": "cU7X8PaTqHGE"
      }
    },
    {
      "cell_type": "code",
      "source": [
        "save_directory = '/content/drive/MyDrive/DeBERTa-65-10-25'\n",
        "trainer.save_model(save_directory)\n",
        "tokenizer.save_pretrained(save_directory)"
      ],
      "metadata": {
        "id": "bzMy7Leyo_DG",
        "colab": {
          "base_uri": "https://localhost:8080/"
        },
        "outputId": "c0fac58a-9f8f-48ae-9ea6-cf0c6275140f"
      },
      "execution_count": null,
      "outputs": [
        {
          "data": {
            "text/plain": [
              "('/content/drive/MyDrive/DeBERTa-65-10-25/tokenizer_config.json',\n",
              " '/content/drive/MyDrive/DeBERTa-65-10-25/special_tokens_map.json',\n",
              " '/content/drive/MyDrive/DeBERTa-65-10-25/spm.model',\n",
              " '/content/drive/MyDrive/DeBERTa-65-10-25/added_tokens.json',\n",
              " '/content/drive/MyDrive/DeBERTa-65-10-25/tokenizer.json')"
            ]
          },
          "execution_count": 36,
          "metadata": {},
          "output_type": "execute_result"
        }
      ]
    },
    {
      "cell_type": "code",
      "source": [
        "from transformers import AutoTokenizer, AutoModelForSequenceClassification\n",
        "import torch\n",
        "\n",
        "# Load the tokenizer and your fine-tuned model\n",
        "model_name_or_path = \"/content/drive/MyDrive/DeBERTa-65-10-25\"\n",
        "tokenizer = AutoTokenizer.from_pretrained(model_name_or_path)\n",
        "model = AutoModelForSequenceClassification.from_pretrained(model_name_or_path)\n",
        "\n",
        "# Set the model to evaluation mode\n",
        "model.eval()"
      ],
      "metadata": {
        "id": "q2efXpFofgNL"
      },
      "execution_count": null,
      "outputs": []
    },
    {
      "cell_type": "code",
      "source": [
        "# Define your input text\n",
        "text = \"Battery life is good, but speed was extremely slow though.\"\n",
        "\n",
        "# Tokenize the input text\n",
        "inputs = tokenizer(text, return_tensors=\"pt\")\n",
        "\n",
        "# Run inference (ensure no gradients are computed)\n",
        "with torch.no_grad():\n",
        "    outputs = model(**inputs)\n",
        "\n",
        "# For classification: get the logits and determine the predicted class\n",
        "logits = outputs.logits\n",
        "predicted_class_id = torch.argmax(logits, dim=-1).item()\n",
        "\n",
        "print(\"Predicted class ID:\", predicted_class_id)"
      ],
      "metadata": {
        "colab": {
          "base_uri": "https://localhost:8080/"
        },
        "id": "_gwf247wg3th",
        "outputId": "ddcdb318-8770-4da3-9c75-47f8efe639ed"
      },
      "execution_count": null,
      "outputs": [
        {
          "output_type": "stream",
          "name": "stdout",
          "text": [
            "Predicted class ID: 1\n"
          ]
        }
      ]
    }
  ]
}